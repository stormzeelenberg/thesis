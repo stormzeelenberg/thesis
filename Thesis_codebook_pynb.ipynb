{
  "cells": [
    {
      "cell_type": "markdown",
      "metadata": {
        "id": "1pV8xNkxnG1h"
      },
      "source": [
        "# Mount"
      ]
    },
    {
      "cell_type": "code",
      "execution_count": 1,
      "metadata": {
        "colab": {
          "base_uri": "https://localhost:8080/"
        },
        "id": "sqqV770dS6YE",
        "outputId": "54ad0522-110d-467c-cb72-2fc2f2e217cc"
      },
      "outputs": [
        {
          "output_type": "stream",
          "name": "stdout",
          "text": [
            "Mounted at /content/drive\n"
          ]
        }
      ],
      "source": [
        "# Mount google drive\n",
        "from google.colab import drive\n",
        "drive.mount('/content/drive')\n"
      ]
    },
    {
      "cell_type": "markdown",
      "metadata": {
        "id": "OrZqwZ07nIuz"
      },
      "source": [
        "# RAPIDS"
      ]
    },
    {
      "cell_type": "code",
      "execution_count": 2,
      "metadata": {
        "colab": {
          "base_uri": "https://localhost:8080/"
        },
        "id": "vroWQxEmRFEB",
        "outputId": "8fc99230-66c0-4c62-81c3-c8d325ed7ed8"
      },
      "outputs": [
        {
          "output_type": "stream",
          "name": "stdout",
          "text": [
            "Collecting pynvml\n",
            "  Downloading pynvml-11.5.0-py3-none-any.whl (53 kB)\n",
            "     ━━━━━━━━━━━━━━━━━━━━━━━━━━━━━━━━━━━━━━━━ 53.1/53.1 kB 2.3 MB/s eta 0:00:00\n",
            "Installing collected packages: pynvml\n",
            "Successfully installed pynvml-11.5.0\n",
            "***********************************************************************\n",
            "Woo! Your instance has a NVIDIA L4 GPU!\n",
            "We will install the latest stable RAPIDS via pip 24.4.*!  Please stand by, should be quick...\n",
            "***********************************************************************\n",
            "\n",
            "Looking in indexes: https://pypi.org/simple, https://pypi.nvidia.com\n",
            "Requirement already satisfied: cudf-cu12==24.4.* in /usr/local/lib/python3.10/dist-packages (24.4.1)\n",
            "Collecting cuml-cu12==24.4.*\n",
            "  Downloading https://pypi.nvidia.com/cuml-cu12/cuml_cu12-24.4.0-cp310-cp310-manylinux_2_17_x86_64.manylinux2014_x86_64.whl (1200.7 MB)\n",
            "     ━━━━━━━━━━━━━━━━━━━━━━━━━━━━━━━━━━━━━━━━ 1.2/1.2 GB 1.5 MB/s eta 0:00:00\n",
            "Collecting cugraph-cu12==24.4.*\n",
            "  Downloading https://pypi.nvidia.com/cugraph-cu12/cugraph_cu12-24.4.0-cp310-cp310-manylinux_2_17_x86_64.manylinux2014_x86_64.whl (1429.1 MB)\n",
            "     ━━━━━━━━━━━━━━━━━━━━━━━━━━━━━━━━━━━━━━━━ 1.4/1.4 GB 1.3 MB/s eta 0:00:00\n",
            "Collecting cuspatial-cu12==24.4.*\n",
            "  Downloading https://pypi.nvidia.com/cuspatial-cu12/cuspatial_cu12-24.4.0-cp310-cp310-manylinux_2_17_x86_64.manylinux2014_x86_64.whl (137.8 MB)\n",
            "     ━━━━━━━━━━━━━━━━━━━━━━━━━━━━━━━━━━━━━━━━ 137.8/137.8 MB 11.4 MB/s eta 0:00:00\n",
            "Collecting cuproj-cu12==24.4.*\n",
            "  Downloading https://pypi.nvidia.com/cuproj-cu12/cuproj_cu12-24.4.0-cp310-cp310-manylinux_2_17_x86_64.manylinux2014_x86_64.whl (920 kB)\n",
            "     ━━━━━━━━━━━━━━━━━━━━━━━━━━━━━━━━━━━━━━━━ 920.9/920.9 kB 52.4 MB/s eta 0:00:00\n",
            "Collecting cuxfilter-cu12==24.4.*\n",
            "  Downloading https://pypi.nvidia.com/cuxfilter-cu12/cuxfilter_cu12-24.4.1-py3-none-any.whl (83 kB)\n",
            "     ━━━━━━━━━━━━━━━━━━━━━━━━━━━━━━━━━━━━━━━━ 83.5/83.5 kB 12.8 MB/s eta 0:00:00\n",
            "Collecting cucim-cu12==24.4.*\n",
            "  Downloading https://pypi.nvidia.com/cucim-cu12/cucim_cu12-24.4.0-cp310-cp310-manylinux_2_17_x86_64.manylinux2014_x86_64.whl (5.8 MB)\n",
            "     ━━━━━━━━━━━━━━━━━━━━━━━━━━━━━━━━━━━━━━━━ 5.8/5.8 MB 94.9 MB/s eta 0:00:00\n",
            "Collecting pylibraft-cu12==24.4.*\n",
            "  Downloading https://pypi.nvidia.com/pylibraft-cu12/pylibraft_cu12-24.4.0-cp310-cp310-manylinux_2_17_x86_64.manylinux2014_x86_64.whl (823.0 MB)\n",
            "     ━━━━━━━━━━━━━━━━━━━━━━━━━━━━━━━━━━━━━━━━ 823.0/823.0 MB 1.9 MB/s eta 0:00:00\n",
            "Collecting raft-dask-cu12==24.4.*\n",
            "  Downloading https://pypi.nvidia.com/raft-dask-cu12/raft_dask_cu12-24.4.0-cp310-cp310-manylinux_2_17_x86_64.manylinux2014_x86_64.whl (170.1 MB)\n",
            "     ━━━━━━━━━━━━━━━━━━━━━━━━━━━━━━━━━━━━━━━━ 170.1/170.1 MB 5.0 MB/s eta 0:00:00\n",
            "Requirement already satisfied: aiohttp in /usr/local/lib/python3.10/dist-packages (3.9.5)\n",
            "Requirement already satisfied: cachetools in /usr/local/lib/python3.10/dist-packages (from cudf-cu12==24.4.*) (5.3.3)\n",
            "Requirement already satisfied: cuda-python<13.0a0,>=12.0 in /usr/local/lib/python3.10/dist-packages (from cudf-cu12==24.4.*) (12.2.1)\n",
            "Requirement already satisfied: cupy-cuda12x>=12.0.0 in /usr/local/lib/python3.10/dist-packages (from cudf-cu12==24.4.*) (12.2.0)\n",
            "Requirement already satisfied: fsspec>=0.6.0 in /usr/local/lib/python3.10/dist-packages (from cudf-cu12==24.4.*) (2023.6.0)\n",
            "Requirement already satisfied: numba>=0.57 in /usr/local/lib/python3.10/dist-packages (from cudf-cu12==24.4.*) (0.58.1)\n",
            "Requirement already satisfied: numpy<2.0a0,>=1.23 in /usr/local/lib/python3.10/dist-packages (from cudf-cu12==24.4.*) (1.25.2)\n",
            "Requirement already satisfied: nvtx>=0.2.1 in /usr/local/lib/python3.10/dist-packages (from cudf-cu12==24.4.*) (0.2.10)\n",
            "Requirement already satisfied: packaging in /usr/local/lib/python3.10/dist-packages (from cudf-cu12==24.4.*) (24.0)\n",
            "Requirement already satisfied: pandas<2.2.2dev0,>=2.0 in /usr/local/lib/python3.10/dist-packages (from cudf-cu12==24.4.*) (2.0.3)\n",
            "Requirement already satisfied: protobuf<5,>=3.20 in /usr/local/lib/python3.10/dist-packages (from cudf-cu12==24.4.*) (3.20.3)\n",
            "Requirement already satisfied: pynvjitlink-cu12 in /usr/local/lib/python3.10/dist-packages (from cudf-cu12==24.4.*) (0.2.3)\n",
            "Requirement already satisfied: pyarrow<15.0.0a0,>=14.0.1 in /usr/local/lib/python3.10/dist-packages (from cudf-cu12==24.4.*) (14.0.2)\n",
            "Requirement already satisfied: rich in /usr/local/lib/python3.10/dist-packages (from cudf-cu12==24.4.*) (13.7.1)\n",
            "Requirement already satisfied: rmm-cu12==24.4.* in /usr/local/lib/python3.10/dist-packages (from cudf-cu12==24.4.*) (24.4.0)\n",
            "Requirement already satisfied: typing_extensions>=4.0.0 in /usr/local/lib/python3.10/dist-packages (from cudf-cu12==24.4.*) (4.11.0)\n",
            "Collecting dask-cuda==24.4.* (from cuml-cu12==24.4.*)\n",
            "  Downloading dask_cuda-24.4.0-py3-none-any.whl (126 kB)\n",
            "     ━━━━━━━━━━━━━━━━━━━━━━━━━━━━━━━━━━━━━━━━ 126.6/126.6 kB 4.1 MB/s eta 0:00:00\n",
            "Collecting dask-cudf-cu12==24.4.* (from cuml-cu12==24.4.*)\n",
            "  Downloading https://pypi.nvidia.com/dask-cudf-cu12/dask_cudf_cu12-24.4.1-py3-none-any.whl (48 kB)\n",
            "     ━━━━━━━━━━━━━━━━━━━━━━━━━━━━━━━━━━━━━━━━ 48.9/48.9 kB 7.4 MB/s eta 0:00:00\n",
            "Requirement already satisfied: joblib>=0.11 in /usr/local/lib/python3.10/dist-packages (from cuml-cu12==24.4.*) (1.4.2)\n",
            "Collecting rapids-dask-dependency==24.4.* (from cuml-cu12==24.4.*)\n",
            "  Downloading https://pypi.nvidia.com/rapids-dask-dependency/rapids_dask_dependency-24.4.1-py3-none-any.whl (15 kB)\n",
            "Requirement already satisfied: scipy>=1.8.0 in /usr/local/lib/python3.10/dist-packages (from cuml-cu12==24.4.*) (1.11.4)\n",
            "Collecting treelite==4.1.2 (from cuml-cu12==24.4.*)\n",
            "  Downloading treelite-4.1.2-py3-none-manylinux2014_x86_64.whl (810 kB)\n",
            "     ━━━━━━━━━━━━━━━━━━━━━━━━━━━━━━━━━━━━━━━━ 810.9/810.9 kB 56.0 MB/s eta 0:00:00\n",
            "Collecting pylibcugraph-cu12==24.4.* (from cugraph-cu12==24.4.*)\n",
            "  Downloading https://pypi.nvidia.com/pylibcugraph-cu12/pylibcugraph_cu12-24.4.0-cp310-cp310-manylinux_2_17_x86_64.manylinux2014_x86_64.whl (1430.2 MB)\n",
            "     ━━━━━━━━━━━━━━━━━━━━━━━━━━━━━━━━━━━━━━━━ 1.4/1.4 GB 1.3 MB/s eta 0:00:00\n",
            "Collecting ucx-py-cu12==0.37.* (from cugraph-cu12==24.4.*)\n",
            "  Downloading https://pypi.nvidia.com/ucx-py-cu12/ucx_py_cu12-0.37.0-cp310-cp310-manylinux_2_17_x86_64.manylinux2014_x86_64.whl (7.7 MB)\n",
            "     ━━━━━━━━━━━━━━━━━━━━━━━━━━━━━━━━━━━━━━━━ 7.7/7.7 MB 67.4 MB/s eta 0:00:00\n",
            "Requirement already satisfied: geopandas>=0.11.0 in /usr/local/lib/python3.10/dist-packages (from cuspatial-cu12==24.4.*) (0.13.2)\n",
            "Requirement already satisfied: bokeh>=3.1 in /usr/local/lib/python3.10/dist-packages (from cuxfilter-cu12==24.4.*) (3.3.4)\n",
            "Collecting datashader>=0.15 (from cuxfilter-cu12==24.4.*)\n",
            "  Downloading datashader-0.16.1-py2.py3-none-any.whl (18.3 MB)\n",
            "     ━━━━━━━━━━━━━━━━━━━━━━━━━━━━━━━━━━━━━━━━ 18.3/18.3 MB 78.5 MB/s eta 0:00:00\n",
            "Requirement already satisfied: holoviews>=1.16.0 in /usr/local/lib/python3.10/dist-packages (from cuxfilter-cu12==24.4.*) (1.17.1)\n",
            "Collecting jupyter-server-proxy (from cuxfilter-cu12==24.4.*)\n",
            "  Downloading jupyter_server_proxy-4.1.2-py3-none-any.whl (34 kB)\n",
            "Requirement already satisfied: panel>=1.0 in /usr/local/lib/python3.10/dist-packages (from cuxfilter-cu12==24.4.*) (1.3.8)\n",
            "Requirement already satisfied: click in /usr/local/lib/python3.10/dist-packages (from cucim-cu12==24.4.*) (8.1.7)\n",
            "Requirement already satisfied: lazy-loader>=0.1 in /usr/local/lib/python3.10/dist-packages (from cucim-cu12==24.4.*) (0.4)\n",
            "Requirement already satisfied: scikit-image<0.23.0a0,>=0.19.0 in /usr/local/lib/python3.10/dist-packages (from cucim-cu12==24.4.*) (0.19.3)\n",
            "Collecting pynvml<11.5,>=11.0.0 (from dask-cuda==24.4.*->cuml-cu12==24.4.*)\n",
            "  Downloading pynvml-11.4.1-py3-none-any.whl (46 kB)\n",
            "     ━━━━━━━━━━━━━━━━━━━━━━━━━━━━━━━━━━━━━━━━ 47.0/47.0 kB 7.0 MB/s eta 0:00:00\n",
            "Requirement already satisfied: zict>=2.0.0 in /usr/local/lib/python3.10/dist-packages (from dask-cuda==24.4.*->cuml-cu12==24.4.*) (3.0.0)\n",
            "Collecting dask==2024.1.1 (from rapids-dask-dependency==24.4.*->cuml-cu12==24.4.*)\n",
            "  Downloading dask-2024.1.1-py3-none-any.whl (1.2 MB)\n",
            "     ━━━━━━━━━━━━━━━━━━━━━━━━━━━━━━━━━━━━━━━━ 1.2/1.2 MB 82.9 MB/s eta 0:00:00\n",
            "Collecting distributed==2024.1.1 (from rapids-dask-dependency==24.4.*->cuml-cu12==24.4.*)\n",
            "  Downloading distributed-2024.1.1-py3-none-any.whl (1.0 MB)\n",
            "     ━━━━━━━━━━━━━━━━━━━━━━━━━━━━━━━━━━━━━━━━ 1.0/1.0 MB 77.3 MB/s eta 0:00:00\n",
            "Collecting dask-expr==0.4.0 (from rapids-dask-dependency==24.4.*->cuml-cu12==24.4.*)\n",
            "  Downloading dask_expr-0.4.0-py3-none-any.whl (161 kB)\n",
            "     ━━━━━━━━━━━━━━━━━━━━━━━━━━━━━━━━━━━━━━━━ 161.7/161.7 kB 15.7 MB/s eta 0:00:00\n",
            "Requirement already satisfied: cloudpickle>=1.5.0 in /usr/local/lib/python3.10/dist-packages (from dask==2024.1.1->rapids-dask-dependency==24.4.*->cuml-cu12==24.4.*) (2.2.1)\n",
            "Requirement already satisfied: partd>=1.2.0 in /usr/local/lib/python3.10/dist-packages (from dask==2024.1.1->rapids-dask-dependency==24.4.*->cuml-cu12==24.4.*) (1.4.2)\n",
            "Requirement already satisfied: pyyaml>=5.3.1 in /usr/local/lib/python3.10/dist-packages (from dask==2024.1.1->rapids-dask-dependency==24.4.*->cuml-cu12==24.4.*) (6.0.1)\n",
            "Requirement already satisfied: toolz>=0.10.0 in /usr/local/lib/python3.10/dist-packages (from dask==2024.1.1->rapids-dask-dependency==24.4.*->cuml-cu12==24.4.*) (0.12.1)\n",
            "Requirement already satisfied: importlib-metadata>=4.13.0 in /usr/local/lib/python3.10/dist-packages (from dask==2024.1.1->rapids-dask-dependency==24.4.*->cuml-cu12==24.4.*) (7.1.0)\n",
            "Requirement already satisfied: jinja2>=2.10.3 in /usr/local/lib/python3.10/dist-packages (from distributed==2024.1.1->rapids-dask-dependency==24.4.*->cuml-cu12==24.4.*) (3.1.4)\n",
            "Requirement already satisfied: locket>=1.0.0 in /usr/local/lib/python3.10/dist-packages (from distributed==2024.1.1->rapids-dask-dependency==24.4.*->cuml-cu12==24.4.*) (1.0.0)\n",
            "Requirement already satisfied: msgpack>=1.0.0 in /usr/local/lib/python3.10/dist-packages (from distributed==2024.1.1->rapids-dask-dependency==24.4.*->cuml-cu12==24.4.*) (1.0.8)\n",
            "Requirement already satisfied: psutil>=5.7.2 in /usr/local/lib/python3.10/dist-packages (from distributed==2024.1.1->rapids-dask-dependency==24.4.*->cuml-cu12==24.4.*) (5.9.5)\n",
            "Requirement already satisfied: sortedcontainers>=2.0.5 in /usr/local/lib/python3.10/dist-packages (from distributed==2024.1.1->rapids-dask-dependency==24.4.*->cuml-cu12==24.4.*) (2.4.0)\n",
            "Requirement already satisfied: tblib>=1.6.0 in /usr/local/lib/python3.10/dist-packages (from distributed==2024.1.1->rapids-dask-dependency==24.4.*->cuml-cu12==24.4.*) (3.0.0)\n",
            "Requirement already satisfied: tornado>=6.0.4 in /usr/local/lib/python3.10/dist-packages (from distributed==2024.1.1->rapids-dask-dependency==24.4.*->cuml-cu12==24.4.*) (6.3.3)\n",
            "Requirement already satisfied: urllib3>=1.24.3 in /usr/local/lib/python3.10/dist-packages (from distributed==2024.1.1->rapids-dask-dependency==24.4.*->cuml-cu12==24.4.*) (2.0.7)\n",
            "Requirement already satisfied: aiosignal>=1.1.2 in /usr/local/lib/python3.10/dist-packages (from aiohttp) (1.3.1)\n",
            "Requirement already satisfied: attrs>=17.3.0 in /usr/local/lib/python3.10/dist-packages (from aiohttp) (23.2.0)\n",
            "Requirement already satisfied: frozenlist>=1.1.1 in /usr/local/lib/python3.10/dist-packages (from aiohttp) (1.4.1)\n",
            "Requirement already satisfied: multidict<7.0,>=4.5 in /usr/local/lib/python3.10/dist-packages (from aiohttp) (6.0.5)\n",
            "Requirement already satisfied: yarl<2.0,>=1.0 in /usr/local/lib/python3.10/dist-packages (from aiohttp) (1.9.4)\n",
            "Requirement already satisfied: async-timeout<5.0,>=4.0 in /usr/local/lib/python3.10/dist-packages (from aiohttp) (4.0.3)\n",
            "Requirement already satisfied: contourpy>=1 in /usr/local/lib/python3.10/dist-packages (from bokeh>=3.1->cuxfilter-cu12==24.4.*) (1.2.1)\n",
            "Requirement already satisfied: pillow>=7.1.0 in /usr/local/lib/python3.10/dist-packages (from bokeh>=3.1->cuxfilter-cu12==24.4.*) (9.4.0)\n",
            "Requirement already satisfied: xyzservices>=2021.09.1 in /usr/local/lib/python3.10/dist-packages (from bokeh>=3.1->cuxfilter-cu12==24.4.*) (2024.4.0)\n",
            "Requirement already satisfied: cython in /usr/local/lib/python3.10/dist-packages (from cuda-python<13.0a0,>=12.0->cudf-cu12==24.4.*) (3.0.10)\n",
            "Requirement already satisfied: fastrlock>=0.5 in /usr/local/lib/python3.10/dist-packages (from cupy-cuda12x>=12.0.0->cudf-cu12==24.4.*) (0.8.2)\n",
            "Requirement already satisfied: colorcet in /usr/local/lib/python3.10/dist-packages (from datashader>=0.15->cuxfilter-cu12==24.4.*) (3.1.0)\n",
            "Requirement already satisfied: multipledispatch in /usr/local/lib/python3.10/dist-packages (from datashader>=0.15->cuxfilter-cu12==24.4.*) (1.0.0)\n",
            "Requirement already satisfied: param in /usr/local/lib/python3.10/dist-packages (from datashader>=0.15->cuxfilter-cu12==24.4.*) (2.1.0)\n",
            "Collecting pyct (from datashader>=0.15->cuxfilter-cu12==24.4.*)\n",
            "  Downloading pyct-0.5.0-py2.py3-none-any.whl (15 kB)\n",
            "Requirement already satisfied: requests in /usr/local/lib/python3.10/dist-packages (from datashader>=0.15->cuxfilter-cu12==24.4.*) (2.31.0)\n",
            "Requirement already satisfied: xarray in /usr/local/lib/python3.10/dist-packages (from datashader>=0.15->cuxfilter-cu12==24.4.*) (2023.7.0)\n",
            "Requirement already satisfied: fiona>=1.8.19 in /usr/local/lib/python3.10/dist-packages (from geopandas>=0.11.0->cuspatial-cu12==24.4.*) (1.9.6)\n",
            "Requirement already satisfied: pyproj>=3.0.1 in /usr/local/lib/python3.10/dist-packages (from geopandas>=0.11.0->cuspatial-cu12==24.4.*) (3.6.1)\n",
            "Requirement already satisfied: shapely>=1.7.1 in /usr/local/lib/python3.10/dist-packages (from geopandas>=0.11.0->cuspatial-cu12==24.4.*) (2.0.4)\n",
            "Requirement already satisfied: pyviz-comms>=0.7.4 in /usr/local/lib/python3.10/dist-packages (from holoviews>=1.16.0->cuxfilter-cu12==24.4.*) (3.0.2)\n",
            "Requirement already satisfied: llvmlite<0.42,>=0.41.0dev0 in /usr/local/lib/python3.10/dist-packages (from numba>=0.57->cudf-cu12==24.4.*) (0.41.1)\n",
            "Requirement already satisfied: python-dateutil>=2.8.2 in /usr/local/lib/python3.10/dist-packages (from pandas<2.2.2dev0,>=2.0->cudf-cu12==24.4.*) (2.8.2)\n",
            "Requirement already satisfied: pytz>=2020.1 in /usr/local/lib/python3.10/dist-packages (from pandas<2.2.2dev0,>=2.0->cudf-cu12==24.4.*) (2023.4)\n",
            "Requirement already satisfied: tzdata>=2022.1 in /usr/local/lib/python3.10/dist-packages (from pandas<2.2.2dev0,>=2.0->cudf-cu12==24.4.*) (2024.1)\n",
            "Requirement already satisfied: markdown in /usr/local/lib/python3.10/dist-packages (from panel>=1.0->cuxfilter-cu12==24.4.*) (3.6)\n",
            "Requirement already satisfied: markdown-it-py in /usr/local/lib/python3.10/dist-packages (from panel>=1.0->cuxfilter-cu12==24.4.*) (3.0.0)\n",
            "Requirement already satisfied: linkify-it-py in /usr/local/lib/python3.10/dist-packages (from panel>=1.0->cuxfilter-cu12==24.4.*) (2.0.3)\n",
            "Requirement already satisfied: mdit-py-plugins in /usr/local/lib/python3.10/dist-packages (from panel>=1.0->cuxfilter-cu12==24.4.*) (0.4.1)\n",
            "Requirement already satisfied: tqdm>=4.48.0 in /usr/local/lib/python3.10/dist-packages (from panel>=1.0->cuxfilter-cu12==24.4.*) (4.66.4)\n",
            "Requirement already satisfied: bleach in /usr/local/lib/python3.10/dist-packages (from panel>=1.0->cuxfilter-cu12==24.4.*) (6.1.0)\n",
            "Requirement already satisfied: networkx>=2.2 in /usr/local/lib/python3.10/dist-packages (from scikit-image<0.23.0a0,>=0.19.0->cucim-cu12==24.4.*) (3.3)\n",
            "Requirement already satisfied: imageio>=2.4.1 in /usr/local/lib/python3.10/dist-packages (from scikit-image<0.23.0a0,>=0.19.0->cucim-cu12==24.4.*) (2.31.6)\n",
            "Requirement already satisfied: tifffile>=2019.7.26 in /usr/local/lib/python3.10/dist-packages (from scikit-image<0.23.0a0,>=0.19.0->cucim-cu12==24.4.*) (2024.5.10)\n",
            "Requirement already satisfied: PyWavelets>=1.1.1 in /usr/local/lib/python3.10/dist-packages (from scikit-image<0.23.0a0,>=0.19.0->cucim-cu12==24.4.*) (1.6.0)\n",
            "Requirement already satisfied: idna>=2.0 in /usr/local/lib/python3.10/dist-packages (from yarl<2.0,>=1.0->aiohttp) (3.7)\n",
            "Requirement already satisfied: jupyter-server>=1.0 in /usr/local/lib/python3.10/dist-packages (from jupyter-server-proxy->cuxfilter-cu12==24.4.*) (1.24.0)\n",
            "Collecting simpervisor>=1.0 (from jupyter-server-proxy->cuxfilter-cu12==24.4.*)\n",
            "  Downloading simpervisor-1.0.0-py3-none-any.whl (8.3 kB)\n",
            "Requirement already satisfied: traitlets>=4.2.1 in /usr/local/lib/python3.10/dist-packages (from jupyter-server-proxy->cuxfilter-cu12==24.4.*) (5.7.1)\n",
            "Requirement already satisfied: pygments<3.0.0,>=2.13.0 in /usr/local/lib/python3.10/dist-packages (from rich->cudf-cu12==24.4.*) (2.16.1)\n",
            "Requirement already satisfied: certifi in /usr/local/lib/python3.10/dist-packages (from fiona>=1.8.19->geopandas>=0.11.0->cuspatial-cu12==24.4.*) (2024.2.2)\n",
            "Requirement already satisfied: click-plugins>=1.0 in /usr/local/lib/python3.10/dist-packages (from fiona>=1.8.19->geopandas>=0.11.0->cuspatial-cu12==24.4.*) (1.1.1)\n",
            "Requirement already satisfied: cligj>=0.5 in /usr/local/lib/python3.10/dist-packages (from fiona>=1.8.19->geopandas>=0.11.0->cuspatial-cu12==24.4.*) (0.7.2)\n",
            "Requirement already satisfied: six in /usr/local/lib/python3.10/dist-packages (from fiona>=1.8.19->geopandas>=0.11.0->cuspatial-cu12==24.4.*) (1.16.0)\n",
            "Requirement already satisfied: MarkupSafe>=2.0 in /usr/local/lib/python3.10/dist-packages (from jinja2>=2.10.3->distributed==2024.1.1->rapids-dask-dependency==24.4.*->cuml-cu12==24.4.*) (2.1.5)\n",
            "Requirement already satisfied: anyio<4,>=3.1.0 in /usr/local/lib/python3.10/dist-packages (from jupyter-server>=1.0->jupyter-server-proxy->cuxfilter-cu12==24.4.*) (3.7.1)\n",
            "Requirement already satisfied: argon2-cffi in /usr/local/lib/python3.10/dist-packages (from jupyter-server>=1.0->jupyter-server-proxy->cuxfilter-cu12==24.4.*) (23.1.0)\n",
            "Requirement already satisfied: jupyter-client>=6.1.12 in /usr/local/lib/python3.10/dist-packages (from jupyter-server>=1.0->jupyter-server-proxy->cuxfilter-cu12==24.4.*) (6.1.12)\n",
            "Requirement already satisfied: jupyter-core!=5.0.*,>=4.12 in /usr/local/lib/python3.10/dist-packages (from jupyter-server>=1.0->jupyter-server-proxy->cuxfilter-cu12==24.4.*) (5.7.2)\n",
            "Requirement already satisfied: nbconvert>=6.4.4 in /usr/local/lib/python3.10/dist-packages (from jupyter-server>=1.0->jupyter-server-proxy->cuxfilter-cu12==24.4.*) (6.5.4)\n",
            "Requirement already satisfied: nbformat>=5.2.0 in /usr/local/lib/python3.10/dist-packages (from jupyter-server>=1.0->jupyter-server-proxy->cuxfilter-cu12==24.4.*) (5.10.4)\n",
            "Requirement already satisfied: prometheus-client in /usr/local/lib/python3.10/dist-packages (from jupyter-server>=1.0->jupyter-server-proxy->cuxfilter-cu12==24.4.*) (0.20.0)\n",
            "Requirement already satisfied: pyzmq>=17 in /usr/local/lib/python3.10/dist-packages (from jupyter-server>=1.0->jupyter-server-proxy->cuxfilter-cu12==24.4.*) (24.0.1)\n",
            "Requirement already satisfied: Send2Trash in /usr/local/lib/python3.10/dist-packages (from jupyter-server>=1.0->jupyter-server-proxy->cuxfilter-cu12==24.4.*) (1.8.3)\n",
            "Requirement already satisfied: terminado>=0.8.3 in /usr/local/lib/python3.10/dist-packages (from jupyter-server>=1.0->jupyter-server-proxy->cuxfilter-cu12==24.4.*) (0.18.1)\n",
            "Requirement already satisfied: websocket-client in /usr/local/lib/python3.10/dist-packages (from jupyter-server>=1.0->jupyter-server-proxy->cuxfilter-cu12==24.4.*) (1.8.0)\n",
            "Requirement already satisfied: mdurl~=0.1 in /usr/local/lib/python3.10/dist-packages (from markdown-it-py->panel>=1.0->cuxfilter-cu12==24.4.*) (0.1.2)\n",
            "Requirement already satisfied: webencodings in /usr/local/lib/python3.10/dist-packages (from bleach->panel>=1.0->cuxfilter-cu12==24.4.*) (0.5.1)\n",
            "Requirement already satisfied: uc-micro-py in /usr/local/lib/python3.10/dist-packages (from linkify-it-py->panel>=1.0->cuxfilter-cu12==24.4.*) (1.0.3)\n",
            "Requirement already satisfied: charset-normalizer<4,>=2 in /usr/local/lib/python3.10/dist-packages (from requests->datashader>=0.15->cuxfilter-cu12==24.4.*) (3.3.2)\n",
            "Requirement already satisfied: sniffio>=1.1 in /usr/local/lib/python3.10/dist-packages (from anyio<4,>=3.1.0->jupyter-server>=1.0->jupyter-server-proxy->cuxfilter-cu12==24.4.*) (1.3.1)\n",
            "Requirement already satisfied: exceptiongroup in /usr/local/lib/python3.10/dist-packages (from anyio<4,>=3.1.0->jupyter-server>=1.0->jupyter-server-proxy->cuxfilter-cu12==24.4.*) (1.2.1)\n",
            "Requirement already satisfied: zipp>=0.5 in /usr/local/lib/python3.10/dist-packages (from importlib-metadata>=4.13.0->dask==2024.1.1->rapids-dask-dependency==24.4.*->cuml-cu12==24.4.*) (3.18.1)\n",
            "Requirement already satisfied: platformdirs>=2.5 in /usr/local/lib/python3.10/dist-packages (from jupyter-core!=5.0.*,>=4.12->jupyter-server>=1.0->jupyter-server-proxy->cuxfilter-cu12==24.4.*) (4.2.1)\n",
            "Requirement already satisfied: lxml in /usr/local/lib/python3.10/dist-packages (from nbconvert>=6.4.4->jupyter-server>=1.0->jupyter-server-proxy->cuxfilter-cu12==24.4.*) (4.9.4)\n",
            "Requirement already satisfied: beautifulsoup4 in /usr/local/lib/python3.10/dist-packages (from nbconvert>=6.4.4->jupyter-server>=1.0->jupyter-server-proxy->cuxfilter-cu12==24.4.*) (4.12.3)\n",
            "Requirement already satisfied: defusedxml in /usr/local/lib/python3.10/dist-packages (from nbconvert>=6.4.4->jupyter-server>=1.0->jupyter-server-proxy->cuxfilter-cu12==24.4.*) (0.7.1)\n",
            "Requirement already satisfied: entrypoints>=0.2.2 in /usr/local/lib/python3.10/dist-packages (from nbconvert>=6.4.4->jupyter-server>=1.0->jupyter-server-proxy->cuxfilter-cu12==24.4.*) (0.4)\n",
            "Requirement already satisfied: jupyterlab-pygments in /usr/local/lib/python3.10/dist-packages (from nbconvert>=6.4.4->jupyter-server>=1.0->jupyter-server-proxy->cuxfilter-cu12==24.4.*) (0.3.0)\n",
            "Requirement already satisfied: mistune<2,>=0.8.1 in /usr/local/lib/python3.10/dist-packages (from nbconvert>=6.4.4->jupyter-server>=1.0->jupyter-server-proxy->cuxfilter-cu12==24.4.*) (0.8.4)\n",
            "Requirement already satisfied: nbclient>=0.5.0 in /usr/local/lib/python3.10/dist-packages (from nbconvert>=6.4.4->jupyter-server>=1.0->jupyter-server-proxy->cuxfilter-cu12==24.4.*) (0.10.0)\n",
            "Requirement already satisfied: pandocfilters>=1.4.1 in /usr/local/lib/python3.10/dist-packages (from nbconvert>=6.4.4->jupyter-server>=1.0->jupyter-server-proxy->cuxfilter-cu12==24.4.*) (1.5.1)\n",
            "Requirement already satisfied: tinycss2 in /usr/local/lib/python3.10/dist-packages (from nbconvert>=6.4.4->jupyter-server>=1.0->jupyter-server-proxy->cuxfilter-cu12==24.4.*) (1.3.0)\n",
            "Requirement already satisfied: fastjsonschema>=2.15 in /usr/local/lib/python3.10/dist-packages (from nbformat>=5.2.0->jupyter-server>=1.0->jupyter-server-proxy->cuxfilter-cu12==24.4.*) (2.19.1)\n",
            "Requirement already satisfied: jsonschema>=2.6 in /usr/local/lib/python3.10/dist-packages (from nbformat>=5.2.0->jupyter-server>=1.0->jupyter-server-proxy->cuxfilter-cu12==24.4.*) (4.19.2)\n",
            "Requirement already satisfied: ptyprocess in /usr/local/lib/python3.10/dist-packages (from terminado>=0.8.3->jupyter-server>=1.0->jupyter-server-proxy->cuxfilter-cu12==24.4.*) (0.7.0)\n",
            "Requirement already satisfied: argon2-cffi-bindings in /usr/local/lib/python3.10/dist-packages (from argon2-cffi->jupyter-server>=1.0->jupyter-server-proxy->cuxfilter-cu12==24.4.*) (21.2.0)\n",
            "Requirement already satisfied: jsonschema-specifications>=2023.03.6 in /usr/local/lib/python3.10/dist-packages (from jsonschema>=2.6->nbformat>=5.2.0->jupyter-server>=1.0->jupyter-server-proxy->cuxfilter-cu12==24.4.*) (2023.12.1)\n",
            "Requirement already satisfied: referencing>=0.28.4 in /usr/local/lib/python3.10/dist-packages (from jsonschema>=2.6->nbformat>=5.2.0->jupyter-server>=1.0->jupyter-server-proxy->cuxfilter-cu12==24.4.*) (0.35.1)\n",
            "Requirement already satisfied: rpds-py>=0.7.1 in /usr/local/lib/python3.10/dist-packages (from jsonschema>=2.6->nbformat>=5.2.0->jupyter-server>=1.0->jupyter-server-proxy->cuxfilter-cu12==24.4.*) (0.18.1)\n",
            "Requirement already satisfied: cffi>=1.0.1 in /usr/local/lib/python3.10/dist-packages (from argon2-cffi-bindings->argon2-cffi->jupyter-server>=1.0->jupyter-server-proxy->cuxfilter-cu12==24.4.*) (1.16.0)\n",
            "Requirement already satisfied: soupsieve>1.2 in /usr/local/lib/python3.10/dist-packages (from beautifulsoup4->nbconvert>=6.4.4->jupyter-server>=1.0->jupyter-server-proxy->cuxfilter-cu12==24.4.*) (2.5)\n",
            "Requirement already satisfied: pycparser in /usr/local/lib/python3.10/dist-packages (from cffi>=1.0.1->argon2-cffi-bindings->argon2-cffi->jupyter-server>=1.0->jupyter-server-proxy->cuxfilter-cu12==24.4.*) (2.22)\n",
            "Installing collected packages: simpervisor, pynvml, pyct, ucx-py-cu12, treelite, dask, pylibraft-cu12, distributed, dask-expr, cuproj-cu12, cucim-cu12, rapids-dask-dependency, pylibcugraph-cu12, datashader, cuspatial-cu12, dask-cudf-cu12, dask-cuda, raft-dask-cu12, cuml-cu12, cugraph-cu12, jupyter-server-proxy, cuxfilter-cu12\n",
            "  Attempting uninstall: pynvml\n",
            "    Found existing installation: pynvml 11.5.0\n",
            "    Uninstalling pynvml-11.5.0:\n",
            "      Successfully uninstalled pynvml-11.5.0\n",
            "  Attempting uninstall: dask\n",
            "    Found existing installation: dask 2023.8.1\n",
            "    Uninstalling dask-2023.8.1:\n",
            "      Successfully uninstalled dask-2023.8.1\n",
            "  Attempting uninstall: distributed\n",
            "    Found existing installation: distributed 2023.8.1\n",
            "    Uninstalling distributed-2023.8.1:\n",
            "      Successfully uninstalled distributed-2023.8.1\n",
            "Successfully installed cucim-cu12-24.4.0 cugraph-cu12-24.4.0 cuml-cu12-24.4.0 cuproj-cu12-24.4.0 cuspatial-cu12-24.4.0 cuxfilter-cu12-24.4.1 dask-2024.1.1 dask-cuda-24.4.0 dask-cudf-cu12-24.4.1 dask-expr-0.4.0 datashader-0.16.1 distributed-2024.1.1 jupyter-server-proxy-4.1.2 pyct-0.5.0 pylibcugraph-cu12-24.4.0 pylibraft-cu12-24.4.0 pynvml-11.4.1 raft-dask-cu12-24.4.0 rapids-dask-dependency-24.4.1 simpervisor-1.0.0 treelite-4.1.2 ucx-py-cu12-0.37.0\n",
            "Collecting cupy-cuda12x\n",
            "  Downloading cupy_cuda12x-13.1.0-cp310-cp310-manylinux2014_x86_64.whl (89.5 MB)\n",
            "     ━━━━━━━━━━━━━━━━━━━━━━━━━━━━━━━━━━━━━━━━ 89.5/89.5 MB 10.7 MB/s eta 0:00:00\n",
            "Requirement already satisfied: numpy<1.29,>=1.22 in /usr/local/lib/python3.10/dist-packages (from cupy-cuda12x) (1.25.2)\n",
            "Requirement already satisfied: fastrlock>=0.5 in /usr/local/lib/python3.10/dist-packages (from cupy-cuda12x) (0.8.2)\n",
            "Installing collected packages: cupy-cuda12x\n",
            "Successfully installed cupy-cuda12x-13.1.0\n",
            "\n",
            "        ***********************************************************************\n",
            "        The pip install of RAPIDS is complete.\n",
            "\n",
            "        Please do not run any further installation from the conda based installation methods, as they may cause issues!\n",
            "\n",
            "        Please ensure that you're pulling from the git repo to remain updated with the latest working install scripts.\n",
            "\n",
            "        Troubleshooting:\n",
            "            - If there is an installation failure, please check back on RAPIDSAI owned templates/notebooks to see how to update your personal files.\n",
            "            - If an installation failure persists when using the latest script, please make an issue on https://github.com/rapidsai-community/rapidsai-csp-utils\n",
            "        ***********************************************************************\n",
            "        \n"
          ]
        }
      ],
      "source": [
        "import os, sys, io\n",
        "import subprocess\n",
        "from pathlib import Path\n",
        "\n",
        "# Install RAPIDS -- we're doing this in one file, for now, due to ease of use\n",
        "try:\n",
        "  import pynvml\n",
        "except:\n",
        "  output = subprocess.Popen([\"pip install pynvml\"], shell=True, stderr=subprocess.STDOUT,\n",
        "      stdout=subprocess.PIPE)\n",
        "  for line in io.TextIOWrapper(output.stdout, encoding=\"utf-8\"):\n",
        "    if(line == \"\"):\n",
        "      break\n",
        "    else:\n",
        "      print(line.rstrip())\n",
        "  import pynvml\n",
        "try:\n",
        "  pynvml.nvmlInit()\n",
        "except:\n",
        "  raise Exception(\"\"\"\n",
        "                  Unfortunately you're in a Colab instance that doesn't have a GPU.\n",
        "\n",
        "                  Please make sure you've configured Colab to request a GPU Instance Type.\n",
        "\n",
        "                  Go to 'Runtime -> Change Runtime Type --> under the Hardware Accelerator, select GPU', then try again.\"\"\"\n",
        "  )\n",
        "gpu_name = pynvml.nvmlDeviceGetName(pynvml.nvmlDeviceGetHandleByIndex(0))\n",
        "rapids_version = \"24.4.*\"\n",
        "\n",
        "if ('P' not in gpu_name):\n",
        "  print('***********************************************************************')\n",
        "  print('Woo! Your instance has a '+ str(gpu_name)+' GPU!')\n",
        "  print(f'We will install the latest stable RAPIDS via pip {rapids_version}!  Please stand by, should be quick...')\n",
        "  print('***********************************************************************')\n",
        "  print()\n",
        "else:\n",
        "  print('***********************************************************************')\n",
        "  print('Hey! Your instance has a Pascal GPU, a '+ str(gpu_name)+'!')\n",
        "  print('We will install a compatible RAPIDS via pip (23.12)!  Please stand by, should be quick...')\n",
        "  print('***********************************************************************')\n",
        "  print()\n",
        "  rapids_version = \"23.12.*\"\n",
        "\n",
        "\n",
        "output = subprocess.Popen([f\"pip install cudf-cu12=={rapids_version} cuml-cu12=={rapids_version} cugraph-cu12=={rapids_version} cuspatial-cu12=={rapids_version} cuproj-cu12=={rapids_version} cuxfilter-cu12=={rapids_version} cucim-cu12=={rapids_version} pylibraft-cu12=={rapids_version} raft-dask-cu12=={rapids_version} aiohttp --extra-index-url=https://pypi.nvidia.com\"], shell=True, stderr=subprocess.STDOUT,\n",
        "    stdout=subprocess.PIPE)\n",
        "for line in io.TextIOWrapper(output.stdout, encoding=\"utf-8\"):\n",
        "  if(line == \"\"):\n",
        "    break\n",
        "  else:\n",
        "    print(line.rstrip())\n",
        "output = subprocess.Popen([\"rm -rf /usr/local/lib/python3.10/dist-packages/cupy*\"], shell=True, stderr=subprocess.STDOUT,\n",
        "    stdout=subprocess.PIPE)\n",
        "for line in io.TextIOWrapper(output.stdout, encoding=\"utf-8\"):\n",
        "  if(line == \"\"):\n",
        "    break\n",
        "  else:\n",
        "    print(line.rstrip())\n",
        "output = subprocess.Popen([\"pip install cupy-cuda12x\"], shell=True, stderr=subprocess.STDOUT,\n",
        "    stdout=subprocess.PIPE)\n",
        "for line in io.TextIOWrapper(output.stdout, encoding=\"utf-8\"):\n",
        "  if(line == \"\"):\n",
        "    break\n",
        "  else:\n",
        "    print(line.rstrip())\n",
        "print(\"\"\"\n",
        "        ***********************************************************************\n",
        "        The pip install of RAPIDS is complete.\n",
        "\n",
        "        Please do not run any further installation from the conda based installation methods, as they may cause issues!\n",
        "\n",
        "        Please ensure that you're pulling from the git repo to remain updated with the latest working install scripts.\n",
        "\n",
        "        Troubleshooting:\n",
        "            - If there is an installation failure, please check back on RAPIDSAI owned templates/notebooks to see how to update your personal files.\n",
        "            - If an installation failure persists when using the latest script, please make an issue on https://github.com/rapidsai-community/rapidsai-csp-utils\n",
        "        ***********************************************************************\n",
        "        \"\"\"\n",
        "      )"
      ]
    },
    {
      "cell_type": "markdown",
      "source": [
        "#Linear SVM"
      ],
      "metadata": {
        "id": "ZvkLernLCOnn"
      }
    },
    {
      "cell_type": "markdown",
      "metadata": {
        "id": "6U1Xqhfr3Kw5"
      },
      "source": [
        "## Linear SVM with Uni-grams"
      ]
    },
    {
      "cell_type": "code",
      "execution_count": 4,
      "metadata": {
        "id": "HFqIn63hgU2R",
        "colab": {
          "base_uri": "https://localhost:8080/"
        },
        "outputId": "d34c0801-7eae-4c09-8a29-4b7a30474c1c"
      },
      "outputs": [
        {
          "output_type": "stream",
          "name": "stderr",
          "text": [
            "[nltk_data] Downloading package stopwords to /root/nltk_data...\n",
            "[nltk_data]   Package stopwords is already up-to-date!\n"
          ]
        }
      ],
      "source": [
        "import pandas as pd\n",
        "from sklearn.preprocessing import LabelEncoder\n",
        "import cudf\n",
        "from cuml.model_selection import train_test_split\n",
        "from sklearn.feature_extraction.text import TfidfVectorizer\n",
        "from cuml.svm import SVC\n",
        "from sklearn.metrics import accuracy_score, classification_report, f1_score\n",
        "from sklearn_model_selection import KFold\n",
        "import cupy as cp\n",
        "import nltk\n",
        "import numpy as np\n",
        "from nltk.corpus import stopwords\n",
        "nltk.download('stopwords')\n",
        "nltk_stopwords = stopwords.words('english')\n",
        "data = pd.read_csv('/content/drive/MyDrive/political_leaning_cleaned_dropped.csv')\n",
        "X = data['clean_post']\n",
        "y = data['political_leaning']\n",
        "tfidf_vectorizer = TfidfVectorizer(max_features = 10000, stop_words=nltk_stopwords)\n",
        "X_tfidf = tfidf_vectorizer.fit_transform(X)\n",
        "X_tfidf_cudf = cudf.DataFrame(X_tfidf.toarray())\n",
        "label_encoder = LabelEncoder()\n",
        "y_encoded = label_encoder.fit_transform(y)\n",
        "y_gpu = cp.array(y_encoded)\n",
        "X_train, X_test, y_train, y_test = train_test_split(X_tfidf_cudf, y_gpu, test_size=0.2, random_state=42)\n",
        "\n",
        "def cross_val_score_svm(model, X, y, cv=5):\n",
        "    kf = KFold(n_splits=cv, shuffle=True, random_state=42)\n",
        "    accuracy_scores = []\n",
        "    f1_scores = []\n",
        "    for train_index, test_index in kf.split(X.to_pandas().values):\n",
        "        X_train_fold = X.iloc[train_index].to_cupy()\n",
        "        X_test_fold = X.iloc[test_index].to_cupy()\n",
        "        y_train_fold = y[train_index]\n",
        "        y_test_fold = y[test_index]\n",
        "\n",
        "        model.fit(X_train_fold.get(), y_train_fold.get())\n",
        "        predictions = model.predict(X_test_fold.get())\n",
        "        accuracy = accuracy_score(y_test_fold.get(), predictions)\n",
        "        f1 = f1_score(y_test_fold.get(), predictions, average='weighted')\n",
        "\n",
        "        accuracy_scores.append(accuracy)\n",
        "        f1_scores.append(f1)\n",
        "\n",
        "    return np.mean(accuracy_scores), np.mean(f1_scores)\n",
        "svm_model = SVC(kernel='linear', C=1.0)\n",
        "average_accuracy, average_f1 = cross_val_score_svm(svm_model, X_train, y_train, cv=5)\n",
        "print(f'SVM with Linear Kernel and Unigrams: Average Accuracy={average_accuracy}, Average F1-score={average_f1}')\n"
      ]
    },
    {
      "cell_type": "markdown",
      "source": [
        "##Linear SVM with Bi Grams"
      ],
      "metadata": {
        "id": "SWgz2vWsz4j7"
      }
    },
    {
      "cell_type": "code",
      "source": [
        "import pandas as pd\n",
        "from sklearn.preprocessing import LabelEncoder\n",
        "import cudf\n",
        "from cuml.model_selection import train_test_split\n",
        "from sklearn.feature_extraction.text import TfidfVectorizer\n",
        "from cuml.svm import SVC\n",
        "from sklearn.metrics import accuracy_score, classification_report, f1_score\n",
        "from sklearn_model_selection import KFold\n",
        "import cupy as cp\n",
        "import nltk\n",
        "import numpy as np\n",
        "from nltk.corpus import stopwords\n",
        "nltk.download('stopwords')\n",
        "nltk_stopwords = stopwords.words('english')\n",
        "data = pd.read_csv('/content/drive/MyDrive/political_leaning_cleaned_dropped.csv')\n",
        "X = data['clean_post']\n",
        "y = data['political_leaning']\n",
        "tfidf_vectorizer = TfidfVectorizer(max_features = 10000, stop_words=nltk_stopwords, ngram_range=(2,2))\n",
        "X_tfidf = tfidf_vectorizer.fit_transform(X)\n",
        "X_tfidf_cudf = cudf.DataFrame(X_tfidf.toarray())\n",
        "label_encoder = LabelEncoder()\n",
        "y_encoded = label_encoder.fit_transform(y)\n",
        "y_gpu = cp.array(y_encoded)\n",
        "X_train, X_test, y_train, y_test = train_test_split(X_tfidf_cudf, y_gpu, test_size=0.2, random_state=42)\n",
        "\n",
        "def cross_val_score_svm(model, X, y, cv=5):\n",
        "    kf = KFold(n_splits=cv, shuffle=True, random_state=42)\n",
        "    accuracy_scores = []\n",
        "    f1_scores = []\n",
        "    for train_index, test_index in kf.split(X.to_pandas().values):\n",
        "        X_train_fold = X.iloc[train_index].to_cupy()\n",
        "        X_test_fold = X.iloc[test_index].to_cupy()\n",
        "        y_train_fold = y[train_index]\n",
        "        y_test_fold = y[test_index]\n",
        "\n",
        "        model.fit(X_train_fold.get(), y_train_fold.get())\n",
        "        predictions = model.predict(X_test_fold.get())\n",
        "        accuracy = accuracy_score(y_test_fold.get(), predictions)\n",
        "        f1 = f1_score(y_test_fold.get(), predictions, average='weighted')\n",
        "\n",
        "        accuracy_scores.append(accuracy)\n",
        "        f1_scores.append(f1)\n",
        "\n",
        "    return np.mean(accuracy_scores), np.mean(f1_scores)\n",
        "svm_model = SVC(kernel='linear', C=1.0)\n",
        "average_accuracy, average_f1 = cross_val_score_svm(svm_model, X_train, y_train, cv=5)\n",
        "print(f'SVM with Linear Kernel and Unigrams: Average Accuracy={average_accuracy}, Average F1-score={average_f1}')\n"
      ],
      "metadata": {
        "id": "35M28S8mz3nQ"
      },
      "execution_count": null,
      "outputs": []
    },
    {
      "cell_type": "markdown",
      "source": [
        "## Linear SVM with Tri-Grams"
      ],
      "metadata": {
        "id": "-GUxF9ab5in1"
      }
    },
    {
      "cell_type": "code",
      "source": [
        "import pandas as pd\n",
        "from sklearn.preprocessing import LabelEncoder\n",
        "import cudf\n",
        "from cuml.model_selection import train_test_split\n",
        "from sklearn.feature_extraction.text import TfidfVectorizer\n",
        "from cuml.svm import SVC\n",
        "from sklearn.metrics import accuracy_score, classification_report, f1_score\n",
        "from sklearn_model_selection import KFold\n",
        "import cupy as cp\n",
        "import nltk\n",
        "import numpy as np\n",
        "from nltk.corpus import stopwords\n",
        "nltk.download('stopwords')\n",
        "nltk_stopwords = stopwords.words('english')\n",
        "data = pd.read_csv('/content/drive/MyDrive/political_leaning_cleaned_dropped.csv')\n",
        "X = data['clean_post']\n",
        "y = data['political_leaning']\n",
        "tfidf_vectorizer = TfidfVectorizer(max_features = 10000, stop_words=nltk_stopwords, ngram_range=(3,3))\n",
        "X_tfidf = tfidf_vectorizer.fit_transform(X)\n",
        "X_tfidf_cudf = cudf.DataFrame(X_tfidf.toarray())\n",
        "label_encoder = LabelEncoder()\n",
        "y_encoded = label_encoder.fit_transform(y)\n",
        "y_gpu = cp.array(y_encoded)\n",
        "X_train, X_test, y_train, y_test = train_test_split(X_tfidf_cudf, y_gpu, test_size=0.2, random_state=42)\n",
        "\n",
        "def cross_val_score_svm(model, X, y, cv=5):\n",
        "    kf = KFold(n_splits=cv, shuffle=True, random_state=42)\n",
        "    accuracy_scores = []\n",
        "    f1_scores = []\n",
        "    for train_index, test_index in kf.split(X.to_pandas().values):\n",
        "        X_train_fold = X.iloc[train_index].to_cupy()\n",
        "        X_test_fold = X.iloc[test_index].to_cupy()\n",
        "        y_train_fold = y[train_index]\n",
        "        y_test_fold = y[test_index]\n",
        "\n",
        "        model.fit(X_train_fold.get(), y_train_fold.get())\n",
        "        predictions = model.predict(X_test_fold.get())\n",
        "        accuracy = accuracy_score(y_test_fold.get(), predictions)\n",
        "        f1 = f1_score(y_test_fold.get(), predictions, average='weighted')\n",
        "\n",
        "        accuracy_scores.append(accuracy)\n",
        "        f1_scores.append(f1)\n",
        "\n",
        "    return np.mean(accuracy_scores), np.mean(f1_scores)\n",
        "svm_model = SVC(kernel='linear', C=1.0)\n",
        "average_accuracy, average_f1 = cross_val_score_svm(svm_model, X_train, y_train, cv=5)\n",
        "print(f'SVM with Linear Kernel and Unigrams: Average Accuracy={average_accuracy}, Average F1-score={average_f1}')\n"
      ],
      "metadata": {
        "id": "quKBgtlE5lAc"
      },
      "execution_count": null,
      "outputs": []
    },
    {
      "cell_type": "markdown",
      "metadata": {
        "id": "LsT2coK93Z4Y"
      },
      "source": [
        "## Linear SVM with Uni + Bi Grams"
      ]
    },
    {
      "cell_type": "code",
      "execution_count": null,
      "metadata": {
        "id": "y-dwu2eF3Zey",
        "colab": {
          "base_uri": "https://localhost:8080/"
        },
        "outputId": "23e79b90-8faf-4ae0-bc6f-ef49aa80adf8"
      },
      "outputs": [
        {
          "output_type": "stream",
          "name": "stderr",
          "text": [
            "[nltk_data] Downloading package stopwords to /root/nltk_data...\n",
            "[nltk_data]   Unzipping corpora/stopwords.zip.\n"
          ]
        }
      ],
      "source": [
        "import pandas as pd\n",
        "from sklearn.preprocessing import LabelEncoder\n",
        "import cudf\n",
        "from cuml.model_selection import train_test_split\n",
        "from sklearn.feature_extraction.text import TfidfVectorizer\n",
        "from cuml.svm import SVC\n",
        "from sklearn.metrics import accuracy_score, classification_report, f1_score\n",
        "from sklearn_model_selection import KFold\n",
        "import cupy as cp\n",
        "import nltk\n",
        "import numpy as np\n",
        "from nltk.corpus import stopwords\n",
        "nltk.download('stopwords')\n",
        "nltk_stopwords = stopwords.words('english')\n",
        "data = pd.read_csv('/content/drive/MyDrive/political_leaning_cleaned_dropped.csv')\n",
        "X = data['clean_post']\n",
        "y = data['political_leaning']\n",
        "tfidf_vectorizer = TfidfVectorizer(max_features = 10000, stop_words=nltk_stopwords, ngram_range=(1,2))\n",
        "X_tfidf = tfidf_vectorizer.fit_transform(X)\n",
        "X_tfidf_cudf = cudf.DataFrame(X_tfidf.toarray())\n",
        "label_encoder = LabelEncoder()\n",
        "y_encoded = label_encoder.fit_transform(y)\n",
        "y_gpu = cp.array(y_encoded)\n",
        "X_train, X_test, y_train, y_test = train_test_split(X_tfidf_cudf, y_gpu, test_size=0.2, random_state=42)\n",
        "\n",
        "def cross_val_score_svm(model, X, y, cv=5):\n",
        "    kf = KFold(n_splits=cv, shuffle=True, random_state=42)\n",
        "    accuracy_scores = []\n",
        "    f1_scores = []\n",
        "    for train_index, test_index in kf.split(X.to_pandas().values):\n",
        "        X_train_fold = X.iloc[train_index].to_cupy()\n",
        "        X_test_fold = X.iloc[test_index].to_cupy()\n",
        "        y_train_fold = y[train_index]\n",
        "        y_test_fold = y[test_index]\n",
        "\n",
        "        model.fit(X_train_fold.get(), y_train_fold.get())\n",
        "        predictions = model.predict(X_test_fold.get())\n",
        "        accuracy = accuracy_score(y_test_fold.get(), predictions)\n",
        "        f1 = f1_score(y_test_fold.get(), predictions, average='weighted')\n",
        "\n",
        "        accuracy_scores.append(accuracy)\n",
        "        f1_scores.append(f1)\n",
        "\n",
        "    return np.mean(accuracy_scores), np.mean(f1_scores)\n",
        "svm_model = SVC(kernel='linear', C=1.0)\n",
        "average_accuracy, average_f1 = cross_val_score_svm(svm_model, X_train, y_train, cv=5)\n",
        "print(f'SVM with Linear Kernel and Unigrams: Average Accuracy={average_accuracy}, Average F1-score={average_f1}')\n"
      ]
    },
    {
      "cell_type": "markdown",
      "source": [
        "## Linear SVM with Uni+Bi+Tri Grams"
      ],
      "metadata": {
        "id": "XOGSNyR8AiBq"
      }
    },
    {
      "cell_type": "code",
      "source": [
        "import pandas as pd\n",
        "from sklearn.preprocessing import LabelEncoder\n",
        "import cudf\n",
        "from cuml.model_selection import train_test_split\n",
        "from sklearn.feature_extraction.text import TfidfVectorizer\n",
        "from cuml.svm import SVC\n",
        "from sklearn.metrics import accuracy_score, classification_report, f1_score\n",
        "from sklearn_model_selection import KFold\n",
        "import cupy as cp\n",
        "import nltk\n",
        "import numpy as np\n",
        "from nltk.corpus import stopwords\n",
        "nltk.download('stopwords')\n",
        "nltk_stopwords = stopwords.words('english')\n",
        "data = pd.read_csv('/content/drive/MyDrive/political_leaning_cleaned_dropped.csv')\n",
        "X = data['clean_post']\n",
        "y = data['political_leaning']\n",
        "tfidf_vectorizer = TfidfVectorizer(max_features = 10000, stop_words=nltk_stopwords, ngram_range=(1,3))\n",
        "X_tfidf = tfidf_vectorizer.fit_transform(X)\n",
        "X_tfidf_cudf = cudf.DataFrame(X_tfidf.toarray())\n",
        "label_encoder = LabelEncoder()\n",
        "y_encoded = label_encoder.fit_transform(y)\n",
        "y_gpu = cp.array(y_encoded)\n",
        "X_train, X_test, y_train, y_test = train_test_split(X_tfidf_cudf, y_gpu, test_size=0.2, random_state=42)\n",
        "\n",
        "def cross_val_score_svm(model, X, y, cv=5):\n",
        "    kf = KFold(n_splits=cv, shuffle=True, random_state=42)\n",
        "    accuracy_scores = []\n",
        "    f1_scores = []\n",
        "    for train_index, test_index in kf.split(X.to_pandas().values):\n",
        "        X_train_fold = X.iloc[train_index].to_cupy()\n",
        "        X_test_fold = X.iloc[test_index].to_cupy()\n",
        "        y_train_fold = y[train_index]\n",
        "        y_test_fold = y[test_index]\n",
        "\n",
        "        model.fit(X_train_fold.get(), y_train_fold.get())\n",
        "        predictions = model.predict(X_test_fold.get())\n",
        "        accuracy = accuracy_score(y_test_fold.get(), predictions)\n",
        "        f1 = f1_score(y_test_fold.get(), predictions, average='weighted')\n",
        "\n",
        "        accuracy_scores.append(accuracy)\n",
        "        f1_scores.append(f1)\n",
        "\n",
        "    return np.mean(accuracy_scores), np.mean(f1_scores)\n",
        "svm_model = SVC(kernel='linear', C=1.0)\n",
        "average_accuracy, average_f1 = cross_val_score_svm(svm_model, X_train, y_train, cv=5)\n",
        "print(f'SVM with Linear Kernel and Unigrams: Average Accuracy={average_accuracy}, Average F1-score={average_f1}')\n"
      ],
      "metadata": {
        "id": "tE3omuOvAhfE"
      },
      "execution_count": null,
      "outputs": []
    },
    {
      "cell_type": "markdown",
      "metadata": {
        "id": "KY4UwLuYeodQ"
      },
      "source": [
        "## HyperParam Tuning"
      ]
    },
    {
      "cell_type": "code",
      "execution_count": null,
      "metadata": {
        "id": "ZILKyeb6jBdt"
      },
      "outputs": [],
      "source": [
        "import pandas as pd\n",
        "from sklearn.preprocessing import LabelEncoder\n",
        "import cudf\n",
        "from cuml.model_selection import train_test_split\n",
        "from sklearn.feature_extraction.text import TfidfVectorizer\n",
        "from cuml.svm import SVC\n",
        "from sklearn.metrics import accuracy_score, classification_report, f1_score\n",
        "from sklearn_model_selection import KFold\n",
        "import cupy as cp\n",
        "import nltk\n",
        "import numpy as np\n",
        "from nltk.corpus import stopwords\n",
        "nltk.download('stopwords')\n",
        "nltk_stopwords = stopwords.words('english')\n",
        "data = pd.read_csv('/content/drive/MyDrive/political_leaning_cleaned_dropped.csv')\n",
        "X = data['clean_post']\n",
        "y = data['political_leaning']\n",
        "tfidf_vectorizer = TfidfVectorizer(max_features = 10000, stop_words=nltk_stopwords, ngram_range=(3,3))\n",
        "X_tfidf = tfidf_vectorizer.fit_transform(X)\n",
        "X_tfidf_cudf = cudf.DataFrame(X_tfidf.toarray())\n",
        "label_encoder = LabelEncoder()\n",
        "y_encoded = label_encoder.fit_transform(y)\n",
        "y_gpu = cp.array(y_encoded)\n",
        "X_train, X_test, y_train, y_test = train_test_split(X_tfidf_cudf, y_gpu, test_size=0.2, random_state=42)\n",
        "\n",
        "kf = KFold(n_splits=5, random_state=42, shuffle=True)\n",
        "\n",
        "best_accuracy = 0\n",
        "best_params = {}\n",
        "\n",
        "for C in [0.1, 1.0, 10.0]:\n",
        "    accuracies = []\n",
        "    for train_index, test_index in kf.split(X_tfidf):\n",
        "        X_train, X_test = X_tfidf.iloc[train_index], X_tfidf.iloc[test_index]\n",
        "        y_train, y_test = y_gpu.iloc[train_index], y_gpu.iloc[test_index]\n",
        "\n",
        "        svm_model = SVC(kernel='linear', C=C)\n",
        "        svm_model.fit(X_train, y_train)\n",
        "\n",
        "        predictions = svm_model.predict(X_test)\n",
        "        acc = accuracy_score(y_test, predictions)\n",
        "        accuracies.append(acc)\n",
        "\n",
        "    avg_accuracy = np.mean(accuracies)\n",
        "    print(f'Tested C={C}, Average Accuracy={avg_accuracy}')\n",
        "\n",
        "    if avg_accuracy > best_accuracy:\n",
        "        best_accuracy = avg_accuracy\n",
        "        best_params = {'C': C}\n",
        "\n",
        "print(\"Best parameters found: \", best_params)\n",
        "print(\"Best accuracy: \", best_accuracy)"
      ]
    },
    {
      "cell_type": "markdown",
      "source": [
        "# RBF SVM"
      ],
      "metadata": {
        "id": "pWcYD07eCR89"
      }
    },
    {
      "cell_type": "markdown",
      "source": [
        "## RBF UNI Grams\n"
      ],
      "metadata": {
        "id": "xJR2DGpwP6wW"
      }
    },
    {
      "cell_type": "code",
      "source": [
        "import pandas as pd\n",
        "from sklearn.preprocessing import LabelEncoder\n",
        "import cudf\n",
        "from cuml.model_selection import train_test_split\n",
        "from sklearn.feature_extraction.text import TfidfVectorizer\n",
        "from cuml.svm import SVC\n",
        "from sklearn.metrics import accuracy_score, classification_report, f1_score\n",
        "from sklearn_model_selection import KFold\n",
        "import cupy as cp\n",
        "import nltk\n",
        "import numpy as np\n",
        "from nltk.corpus import stopwords\n",
        "nltk.download('stopwords')\n",
        "nltk_stopwords = stopwords.words('english')\n",
        "data = pd.read_csv('/content/drive/MyDrive/political_leaning_cleaned_dropped.csv')\n",
        "X = data['clean_post']\n",
        "y = data['political_leaning']\n",
        "tfidf_vectorizer = TfidfVectorizer(max_features = 10000, stop_words=nltk_stopwords)\n",
        "X_tfidf = tfidf_vectorizer.fit_transform(X)\n",
        "X_tfidf_cudf = cudf.DataFrame(X_tfidf.toarray())\n",
        "label_encoder = LabelEncoder()\n",
        "y_encoded = label_encoder.fit_transform(y)\n",
        "y_gpu = cp.array(y_encoded)\n",
        "X_train, X_test, y_train, y_test = train_test_split(X_tfidf_cudf, y_gpu, test_size=0.2, random_state=42)\n",
        "\n",
        "def cross_val_score_svm(model, X, y, cv=5):\n",
        "    kf = KFold(n_splits=cv, shuffle=True, random_state=42)\n",
        "    accuracy_scores = []\n",
        "    f1_scores = []\n",
        "    for train_index, test_index in kf.split(X.to_pandas().values):\n",
        "        X_train_fold = X.iloc[train_index].to_cupy()\n",
        "        X_test_fold = X.iloc[test_index].to_cupy()\n",
        "        y_train_fold = y[train_index]\n",
        "        y_test_fold = y[test_index]\n",
        "\n",
        "        model.fit(X_train_fold.get(), y_train_fold.get())\n",
        "        predictions = model.predict(X_test_fold.get())\n",
        "        accuracy = accuracy_score(y_test_fold.get(), predictions)\n",
        "        f1 = f1_score(y_test_fold.get(), predictions, average='weighted')\n",
        "\n",
        "        accuracy_scores.append(accuracy)\n",
        "        f1_scores.append(f1)\n",
        "\n",
        "    return np.mean(accuracy_scores), np.mean(f1_scores)\n",
        "svm_model = SVC(kernel='rbf', C=1.0)\n",
        "average_accuracy, average_f1 = cross_val_score_svm(svm_model, X_train, y_train, cv=5)\n",
        "print(f'SVM with RBF Kernel and Unigrams: Average Accuracy={average_accuracy}, Average F1-score={average_f1}')\n"
      ],
      "metadata": {
        "id": "Fun0AzkOP52Y",
        "colab": {
          "base_uri": "https://localhost:8080/"
        },
        "outputId": "cb2b0d4c-7b33-4023-8d8d-92689a40c020"
      },
      "execution_count": null,
      "outputs": [
        {
          "output_type": "stream",
          "name": "stderr",
          "text": [
            "[nltk_data] Downloading package stopwords to /root/nltk_data...\n",
            "[nltk_data]   Unzipping corpora/stopwords.zip.\n"
          ]
        }
      ]
    },
    {
      "cell_type": "markdown",
      "source": [
        "## RBF With only Bi-grams"
      ],
      "metadata": {
        "id": "JA85zULDBlFW"
      }
    },
    {
      "cell_type": "code",
      "source": [
        "import pandas as pd\n",
        "from sklearn.preprocessing import LabelEncoder\n",
        "import cudf\n",
        "from cuml.model_selection import train_test_split\n",
        "from sklearn.feature_extraction.text import TfidfVectorizer\n",
        "from cuml.svm import SVC\n",
        "from sklearn.metrics import accuracy_score, classification_report, f1_score\n",
        "from sklearn_model_selection import KFold\n",
        "import cupy as cp\n",
        "import nltk\n",
        "import numpy as np\n",
        "from nltk.corpus import stopwords\n",
        "nltk.download('stopwords')\n",
        "nltk_stopwords = stopwords.words('english')\n",
        "data = pd.read_csv('/content/drive/MyDrive/political_leaning_cleaned_dropped.csv')\n",
        "X = data['clean_post']\n",
        "y = data['political_leaning']\n",
        "tfidf_vectorizer = TfidfVectorizer(max_features = 10000, stop_words=nltk_stopwords, ngram_range=(2,2))\n",
        "X_tfidf = tfidf_vectorizer.fit_transform(X)\n",
        "X_tfidf_cudf = cudf.DataFrame(X_tfidf.toarray())\n",
        "label_encoder = LabelEncoder()\n",
        "y_encoded = label_encoder.fit_transform(y)\n",
        "y_gpu = cp.array(y_encoded)\n",
        "X_train, X_test, y_train, y_test = train_test_split(X_tfidf_cudf, y_gpu, test_size=0.2, random_state=42)\n",
        "\n",
        "def cross_val_score_svm(model, X, y, cv=3):\n",
        "    kf = KFold(n_splits=cv, shuffle=True, random_state=42)\n",
        "    accuracy_scores = []\n",
        "    f1_scores = []\n",
        "    for train_index, test_index in kf.split(X.to_pandas().values):\n",
        "        X_train_fold = X.iloc[train_index].to_cupy()\n",
        "        X_test_fold = X.iloc[test_index].to_cupy()\n",
        "        y_train_fold = y[train_index]\n",
        "        y_test_fold = y[test_index]\n",
        "\n",
        "        model.fit(X_train_fold.get(), y_train_fold.get())\n",
        "        predictions = model.predict(X_test_fold.get())\n",
        "        accuracy = accuracy_score(y_test_fold.get(), predictions)\n",
        "        f1 = f1_score(y_test_fold.get(), predictions, average='weighted')\n",
        "\n",
        "        accuracy_scores.append(accuracy)\n",
        "        f1_scores.append(f1)\n",
        "\n",
        "    return np.mean(accuracy_scores), np.mean(f1_scores)\n",
        "svm_model = SVC(kernel='rbf', C=1.0)\n",
        "average_accuracy, average_f1 = cross_val_score_svm(svm_model, X_train, y_train, cv=3)\n",
        "print(f'SVM with RBF Kernel and Bigrams: Average Accuracy={average_accuracy}, Average F1-score={average_f1}')\n"
      ],
      "metadata": {
        "id": "_qWIA_sPBuEO"
      },
      "execution_count": null,
      "outputs": []
    },
    {
      "cell_type": "markdown",
      "source": [
        "## RBF with Tri Grams"
      ],
      "metadata": {
        "id": "myJN_hdlJlES"
      }
    },
    {
      "cell_type": "code",
      "source": [
        "import pandas as pd\n",
        "from sklearn.preprocessing import LabelEncoder\n",
        "import cudf\n",
        "from cuml.model_selection import train_test_split\n",
        "from sklearn.feature_extraction.text import TfidfVectorizer\n",
        "from cuml.svm import SVC\n",
        "from sklearn.metrics import accuracy_score, classification_report, f1_score\n",
        "from sklearn_model_selection import KFold\n",
        "import cupy as cp\n",
        "import nltk\n",
        "import numpy as np\n",
        "from nltk.corpus import stopwords\n",
        "nltk.download('stopwords')\n",
        "nltk_stopwords = stopwords.words('english')\n",
        "data = pd.read_csv('/content/drive/MyDrive/political_leaning_cleaned_dropped.csv')\n",
        "X = data['clean_post']\n",
        "y = data['political_leaning']\n",
        "tfidf_vectorizer = TfidfVectorizer(max_features = 10000, stop_words=nltk_stopwords, ngram_range=(3,3))\n",
        "X_tfidf = tfidf_vectorizer.fit_transform(X)\n",
        "X_tfidf_cudf = cudf.DataFrame(X_tfidf.toarray())\n",
        "label_encoder = LabelEncoder()\n",
        "y_encoded = label_encoder.fit_transform(y)\n",
        "y_gpu = cp.array(y_encoded)\n",
        "X_train, X_test, y_train, y_test = train_test_split(X_tfidf_cudf, y_gpu, test_size=0.2, random_state=42)\n",
        "\n",
        "def cross_val_score_svm(model, X, y, cv=3):\n",
        "    kf = KFold(n_splits=cv, shuffle=True, random_state=42)\n",
        "    accuracy_scores = []\n",
        "    f1_scores = []\n",
        "    for train_index, test_index in kf.split(X.to_pandas().values):\n",
        "        X_train_fold = X.iloc[train_index].to_cupy()\n",
        "        X_test_fold = X.iloc[test_index].to_cupy()\n",
        "        y_train_fold = y[train_index]\n",
        "        y_test_fold = y[test_index]\n",
        "\n",
        "        model.fit(X_train_fold.get(), y_train_fold.get())\n",
        "        predictions = model.predict(X_test_fold.get())\n",
        "        accuracy = accuracy_score(y_test_fold.get(), predictions)\n",
        "        f1 = f1_score(y_test_fold.get(), predictions, average='weighted')\n",
        "\n",
        "        accuracy_scores.append(accuracy)\n",
        "        f1_scores.append(f1)\n",
        "\n",
        "    return np.mean(accuracy_scores), np.mean(f1_scores)\n",
        "svm_model = SVC(kernel='rbf', C=1.0)\n",
        "average_accuracy, average_f1 = cross_val_score_svm(svm_model, X_train, y_train, cv=3)\n",
        "print(f'SVM with RBF Kernel and Trigrams: Average Accuracy={average_accuracy}, Average F1-score={average_f1}')\n"
      ],
      "metadata": {
        "id": "DDmAazx3Juif"
      },
      "execution_count": null,
      "outputs": []
    },
    {
      "cell_type": "markdown",
      "source": [
        "## RBF UNI + Bi Grams"
      ],
      "metadata": {
        "id": "KOrIM8gXhYUt"
      }
    },
    {
      "cell_type": "code",
      "source": [
        "import pandas as pd\n",
        "from sklearn.preprocessing import LabelEncoder\n",
        "import cudf\n",
        "from cuml.model_selection import train_test_split\n",
        "from sklearn.feature_extraction.text import TfidfVectorizer\n",
        "from cuml.svm import SVC\n",
        "from sklearn.metrics import accuracy_score, classification_report, f1_score\n",
        "from sklearn_model_selection import KFold\n",
        "import cupy as cp\n",
        "import nltk\n",
        "import numpy as np\n",
        "from nltk.corpus import stopwords\n",
        "nltk.download('stopwords')\n",
        "nltk_stopwords = stopwords.words('english')\n",
        "data = pd.read_csv('/content/drive/MyDrive/political_leaning_cleaned_dropped.csv')\n",
        "X = data['clean_post']\n",
        "y = data['political_leaning']\n",
        "tfidf_vectorizer = TfidfVectorizer(max_features = 10000, stop_words=nltk_stopwords, ngram_range=(1,2))\n",
        "X_tfidf = tfidf_vectorizer.fit_transform(X)\n",
        "X_tfidf_cudf = cudf.DataFrame(X_tfidf.toarray())\n",
        "label_encoder = LabelEncoder()\n",
        "y_encoded = label_encoder.fit_transform(y)\n",
        "y_gpu = cp.array(y_encoded)\n",
        "X_train, X_test, y_train, y_test = train_test_split(X_tfidf_cudf, y_gpu, test_size=0.2, random_state=42)\n",
        "\n",
        "def cross_val_score_svm(model, X, y, cv=3):\n",
        "    kf = KFold(n_splits=cv, shuffle=True, random_state=42)\n",
        "    accuracy_scores = []\n",
        "    f1_scores = []\n",
        "    for train_index, test_index in kf.split(X.to_pandas().values):\n",
        "        X_train_fold = X.iloc[train_index].to_cupy()\n",
        "        X_test_fold = X.iloc[test_index].to_cupy()\n",
        "        y_train_fold = y[train_index]\n",
        "        y_test_fold = y[test_index]\n",
        "\n",
        "        model.fit(X_train_fold.get(), y_train_fold.get())\n",
        "        predictions = model.predict(X_test_fold.get())\n",
        "        accuracy = accuracy_score(y_test_fold.get(), predictions)\n",
        "        f1 = f1_score(y_test_fold.get(), predictions, average='weighted')\n",
        "\n",
        "        accuracy_scores.append(accuracy)\n",
        "        f1_scores.append(f1)\n",
        "\n",
        "    return np.mean(accuracy_scores), np.mean(f1_scores)\n",
        "svm_model = SVC(kernel='rbf', C=1.0)\n",
        "average_accuracy, average_f1 = cross_val_score_svm(svm_model, X_train, y_train, cv=3)\n",
        "print(f'SVM with RBF Kernel and Uni+Bigrams: Average Accuracy={average_accuracy}, Average F1-score={average_f1}')\n"
      ],
      "metadata": {
        "colab": {
          "base_uri": "https://localhost:8080/"
        },
        "id": "J3PhzNKFgQcs",
        "outputId": "a3f02ab9-b10a-4423-cc58-bc4f56d40dcb"
      },
      "execution_count": null,
      "outputs": [
        {
          "output_type": "stream",
          "name": "stderr",
          "text": [
            "[nltk_data] Downloading package stopwords to /root/nltk_data...\n",
            "[nltk_data]   Package stopwords is already up-to-date!\n"
          ]
        }
      ]
    },
    {
      "cell_type": "markdown",
      "source": [
        "##RBF With Uni + Bi+  Tri-Grams"
      ],
      "metadata": {
        "id": "fM4jfpLaSEQE"
      }
    },
    {
      "cell_type": "code",
      "source": [
        "import pandas as pd\n",
        "from sklearn.preprocessing import LabelEncoder\n",
        "import cudf\n",
        "from cuml.model_selection import train_test_split\n",
        "from sklearn.feature_extraction.text import TfidfVectorizer\n",
        "from cuml.svm import SVC\n",
        "from sklearn.metrics import accuracy_score, classification_report, f1_score\n",
        "from sklearn_model_selection import KFold\n",
        "import cupy as cp\n",
        "import nltk\n",
        "import numpy as np\n",
        "from nltk.corpus import stopwords\n",
        "nltk.download('stopwords')\n",
        "nltk_stopwords = stopwords.words('english')\n",
        "data = pd.read_csv('/content/drive/MyDrive/political_leaning_cleaned_dropped.csv')\n",
        "X = data['clean_post']\n",
        "y = data['political_leaning']\n",
        "tfidf_vectorizer = TfidfVectorizer(max_features = 10000, stop_words=nltk_stopwords, ngram_range=(1,3))\n",
        "X_tfidf = tfidf_vectorizer.fit_transform(X)\n",
        "X_tfidf_cudf = cudf.DataFrame(X_tfidf.toarray())\n",
        "label_encoder = LabelEncoder()\n",
        "y_encoded = label_encoder.fit_transform(y)\n",
        "y_gpu = cp.array(y_encoded)\n",
        "X_train, X_test, y_train, y_test = train_test_split(X_tfidf_cudf, y_gpu, test_size=0.2, random_state=42)\n",
        "\n",
        "def cross_val_score_svm(model, X, y, cv=3):\n",
        "    kf = KFold(n_splits=cv, shuffle=True, random_state=42)\n",
        "    accuracy_scores = []\n",
        "    f1_scores = []\n",
        "    for train_index, test_index in kf.split(X.to_pandas().values):\n",
        "        X_train_fold = X.iloc[train_index].to_cupy()\n",
        "        X_test_fold = X.iloc[test_index].to_cupy()\n",
        "        y_train_fold = y[train_index]\n",
        "        y_test_fold = y[test_index]\n",
        "\n",
        "        model.fit(X_train_fold.get(), y_train_fold.get())\n",
        "        predictions = model.predict(X_test_fold.get())\n",
        "        accuracy = accuracy_score(y_test_fold.get(), predictions)\n",
        "        f1 = f1_score(y_test_fold.get(), predictions, average='weighted')\n",
        "\n",
        "        accuracy_scores.append(accuracy)\n",
        "        f1_scores.append(f1)\n",
        "\n",
        "    return np.mean(accuracy_scores), np.mean(f1_scores)\n",
        "svm_model = SVC(kernel='rbf', C=1.0)\n",
        "average_accuracy, average_f1 = cross_val_score_svm(svm_model, X_train, y_train, cv=3)\n",
        "print(f'SVM with RBF Kernel and Uni+Bi+Trigrams: Average Accuracy={average_accuracy}, Average F1-score={average_f1}')\n"
      ],
      "metadata": {
        "colab": {
          "base_uri": "https://localhost:8080/"
        },
        "id": "sA7tR5Bgi-p2",
        "outputId": "2b18af7d-bbe7-4193-bea2-6f2ab548f881"
      },
      "execution_count": null,
      "outputs": [
        {
          "output_type": "stream",
          "name": "stderr",
          "text": [
            "[nltk_data] Downloading package stopwords to /root/nltk_data...\n",
            "[nltk_data]   Unzipping corpora/stopwords.zip.\n"
          ]
        }
      ]
    },
    {
      "cell_type": "markdown",
      "source": [],
      "metadata": {
        "id": "XfRpBuIMjA0S"
      }
    },
    {
      "cell_type": "markdown",
      "source": [
        "## RBF Hyperparameter Tuning"
      ],
      "metadata": {
        "id": "85sHYcRut7Ty"
      }
    },
    {
      "cell_type": "code",
      "source": [
        "import pandas as pd\n",
        "import cudf\n",
        "from cuml.model_selection import train_test_split\n",
        "from sklearn.feature_extraction.text import TfidfVectorizer\n",
        "from sklearn.model_selection import KFold\n",
        "from cuml.svm import SVC\n",
        "from sklearn.metrics import accuracy_score, classification_report\n",
        "import cupy as cp\n",
        "from sklearn.preprocessing import LabelEncoder\n",
        "import numpy as np\n",
        "import nltk\n",
        "from nltk.corpus import stopwords\n",
        "nltk.download('stopwords')\n",
        "nltk_stopwords = stopwords.words('english')\n",
        "data = pd.read_csv('/content/drive/MyDrive/political_leaning_cleaned_dropped.csv')\n",
        "X = data['clean_post']\n",
        "y = data['political_leaning']\n",
        "tfidf_vectorizer = TfidfVectorizer(max_features = 10000, stop_words = nltk_stopwords)  # You can adjust parameters\n",
        "X_tfidf = tfidf_vectorizer.fit_transform(X)\n",
        "X_tfidf_cudf = cudf.DataFrame(X_tfidf.toarray())\n",
        "label_encoder = LabelEncoder()\n",
        "y_encoded = label_encoder.fit_transform(y)\n",
        "y_gpu = cp.array(y_encoded)\n",
        "kf = KFold(n_splits=5, random_state=42, shuffle=True)\n",
        "\n",
        "best_accuracy = 0\n",
        "best_params = {}\n",
        "\n",
        "param_grid_C = [0.1, 1, 10, 100]\n",
        "param_grid_gamma = [1, 0.1, 0.01, 0.001]\n",
        "for C in param_grid_C:\n",
        "    for gamma in param_grid_gamma:\n",
        "        accuracies = []\n",
        "        for train_index, test_index in kf.split(X_tfidf_cudf):\n",
        "            X_train, X_test = X_tfidf_cudf.iloc[train_index].to_cupy(), X_tfidf_cudf.iloc[test_index].to_cupy()\n",
        "            y_train, y_test = y_gpu[train_index], y_gpu[test_index]\n",
        "\n",
        "            svm_model = SVC(kernel='rbf', C=C, gamma=gamma)\n",
        "            svm_model.fit(X_train, y_train)\n",
        "\n",
        "            predictions = svm_model.predict(X_test)\n",
        "            acc = accuracy_score(y_test.get(), predictions.get())\n",
        "            accuracies.append(acc)\n",
        "\n",
        "        avg_accuracy = np.mean(accuracies)\n",
        "        print(f'Tested C={C}, gamma={gamma}, Average Accuracy={avg_accuracy}')\n",
        "\n",
        "        if avg_accuracy > best_accuracy:\n",
        "            best_accuracy = avg_accuracy\n",
        "            best_params = {'C': C, 'gamma': gamma}\n",
        "print(\"Best parameters found: \", best_params)\n",
        "print(\"Best accuracy: \", best_accuracy)\n",
        "X_train, X_test, y_train, y_test = train_test_split(X_tfidf_cudf.to_cupy(), y_gpu, test_size=0.2, random_state=42)\n",
        "best_svm = SVC(kernel='rbf', C=best_params['C'], gamma=best_params['gamma'])\n",
        "best_svm.fit(X_train, y_train)\n",
        "predictions = best_svm.predict(X_test)\n",
        "accuracy = accuracy_score(y_test.get(), predictions.get())\n",
        "print(f'Test set accuracy: {accuracy}')"
      ],
      "metadata": {
        "id": "Jwoh36Lnt-gs"
      },
      "execution_count": null,
      "outputs": []
    },
    {
      "cell_type": "markdown",
      "source": [
        "## Best SVM Model:\n",
        "Kernel = RBF\n",
        "C = 10.0\n",
        "Gamma = 1.0"
      ],
      "metadata": {
        "id": "9UlcxWUUKR9M"
      }
    },
    {
      "cell_type": "code",
      "source": [
        "predictions = svm_model.predict(X_test)\n",
        "predictions_np = cp.asnumpy(predictions)\n",
        "y_test_np = cp.asnumpy(y_test)\n",
        "print(\"Accuracy:\", cuml_accuracy_score(y_test, predictions))\n",
        "print(\"Classification Report:\\n\", classification_report(y_test_np, predictions_np, target_names=label_encoder.classes_))\n"
      ],
      "metadata": {
        "id": "NJRH1qXhLHpq"
      },
      "execution_count": null,
      "outputs": []
    },
    {
      "cell_type": "code",
      "source": [
        "from sklearn.metrics import accuracy_score as sklearn_accuracy_score, classification_report, confusion_matrix\n",
        "import seaborn as sns\n",
        "import matplotlib.pyplot as plt\n",
        "predictions_np = cp.asnumpy(predictions)\n",
        "y_test_np = cp.asnumpy(y_test)\n",
        "conf_matrix = confusion_matrix(y_test_np, predictions_np)\n",
        "plt.figure(figsize=(10, 7))\n",
        "sns.heatmap(conf_matrix, annot=True, fmt='d', cmap='Reds', xticklabels=label_encoder.classes_, yticklabels=label_encoder.classes_)\n",
        "plt.xlabel('Predicted Label')\n",
        "plt.ylabel('True Label')\n",
        "plt.title('Confusion Matrix for optimal SVM')\n",
        "plt.show()\n",
        "print(\"Accuracy:\", sklearn_accuracy_score(y_test_np, predictions_np))\n",
        "print(\"Classification Report:\\n\", classification_report(y_test_np, predictions_np, target_names=label_encoder.classes_))"
      ],
      "metadata": {
        "id": "n5-GU4SQthgo"
      },
      "execution_count": null,
      "outputs": []
    },
    {
      "cell_type": "markdown",
      "source": [
        "# Logistic Regression"
      ],
      "metadata": {
        "id": "mBSPuySVMnDg"
      }
    },
    {
      "cell_type": "markdown",
      "source": [
        "## LR **Uni**"
      ],
      "metadata": {
        "id": "R2X5He_jMs1z"
      }
    },
    {
      "cell_type": "code",
      "source": [
        "import pandas as pd\n",
        "import cudf\n",
        "from cuml.model_selection import train_test_split\n",
        "from sklearn.feature_extraction.text import TfidfVectorizer\n",
        "from cuml.svm import SVC\n",
        "from sklearn.metrics import accuracy_score, classification_report, f1_score\n",
        "import cupy as cp\n",
        "from sklearn.preprocessing import LabelEncoder\n",
        "import numpy as np\n",
        "import nltk\n",
        "from nltk.corpus import stopwords\n",
        "from cuml.linear_model import LogisticRegression as cuLogisticRegression\n",
        "from sklearn.model_selection import KFold\n",
        "\n",
        "nltk.download('stopwords')\n",
        "nltk_stopwords = stopwords.words('english')\n",
        "data = pd.read_csv('/content/drive/MyDrive/political_leaning_cleaned_dropped.csv')\n",
        "X = data['clean_post']\n",
        "y = data['political_leaning']\n",
        "tfidf_vectorizer = TfidfVectorizer(max_features = 10000, stop_words = nltk_stopwords)\n",
        "X_tfidf = tfidf_vectorizer.fit_transform(X)\n",
        "X_tfidf_cudf = cudf.DataFrame(X_tfidf.toarray())\n",
        "label_encoder = LabelEncoder()\n",
        "y_encoded = label_encoder.fit_transform(y)\n",
        "y_gpu = cp.array(y_encoded)\n",
        "\n",
        "X_train, X_test, y_train, y_test = train_test_split(X_tfidf_cudf, y_gpu, test_size=0.2, random_state=42)\n",
        "ef cross_val_score(model, X, y, cv=5):\n",
        "    kf = KFold(n_splits=cv, shuffle=True, random_state=42)\n",
        "    accuracy_scores = []\n",
        "    f1_scores = []\n",
        "    for train_index, test_index in kf.split(X.to_pandas().values):\n",
        "        X_train_fold = X.iloc[train_index].to_cupy()\n",
        "        X_test_fold = X.iloc[test_index].to_cupy()\n",
        "        y_train_fold = y[train_index]\n",
        "        y_test_fold = y[test_index]\n",
        "\n",
        "        model.fit(X_train_fold.get(), y_train_fold.get())\n",
        "        predictions = model.predict(X_test_fold.get())\n",
        "\n",
        "        accuracy = accuracy_score(y_test_fold.get(), predictions)\n",
        "        f1 = f1_score(y_test_fold.get(), predictions, average='weighted')\n",
        "\n",
        "        accuracy_scores.append(accuracy)\n",
        "        f1_scores.append(f1)\n",
        "\n",
        "    return np.mean(accuracy_scores), np.mean(f1_scores)\n",
        "lr_model = cuLogisticRegression()\n",
        "average_accuracy, average_f1 = cross_val_score(lr_model, X_train, y_train, cv=5)\n",
        "print(f'Logistic Regression with Unigrams: Average Accuracy={average_accuracy}, Average F1-score={average_f1}')\n"
      ],
      "metadata": {
        "id": "UsTcykh_Mr0-"
      },
      "execution_count": null,
      "outputs": []
    },
    {
      "cell_type": "markdown",
      "source": [
        "## LR with Bi-grams"
      ],
      "metadata": {
        "id": "iiQnF6psF0Yd"
      }
    },
    {
      "cell_type": "code",
      "source": [
        "import pandas as pd\n",
        "import cudf\n",
        "from cuml.model_selection import train_test_split\n",
        "from sklearn.feature_extraction.text import TfidfVectorizer\n",
        "from cuml.svm import SVC\n",
        "from sklearn.metrics import accuracy_score, classification_report, f1_score\n",
        "import cupy as cp\n",
        "from sklearn.preprocessing import LabelEncoder\n",
        "import numpy as np\n",
        "import nltk\n",
        "from nltk.corpus import stopwords\n",
        "from cuml.linear_model import LogisticRegression as cuLogisticRegression\n",
        "from sklearn.model_selection import KFold\n",
        "\n",
        "nltk.download('stopwords')\n",
        "nltk_stopwords = stopwords.words('english')\n",
        "data = pd.read_csv('/content/drive/MyDrive/political_leaning_cleaned_dropped.csv')\n",
        "X = data['clean_post']\n",
        "y = data['political_leaning']\n",
        "tfidf_vectorizer = TfidfVectorizer(max_features = 10000, stop_words = nltk_stopwords, ngram_range = (2,2))\n",
        "X_tfidf = tfidf_vectorizer.fit_transform(X)\n",
        "X_tfidf_cudf = cudf.DataFrame(X_tfidf.toarray())\n",
        "label_encoder = LabelEncoder()\n",
        "y_encoded = label_encoder.fit_transform(y)\n",
        "y_gpu = cp.array(y_encoded)\n",
        "\n",
        "X_train, X_test, y_train, y_test = train_test_split(X_tfidf_cudf, y_gpu, test_size=0.2, random_state=42)\n",
        "ef cross_val_score(model, X, y, cv=5):\n",
        "    kf = KFold(n_splits=cv, shuffle=True, random_state=42)\n",
        "    accuracy_scores = []\n",
        "    f1_scores = []\n",
        "    for train_index, test_index in kf.split(X.to_pandas().values):\n",
        "        X_train_fold = X.iloc[train_index].to_cupy()\n",
        "        X_test_fold = X.iloc[test_index].to_cupy()\n",
        "        y_train_fold = y[train_index]\n",
        "        y_test_fold = y[test_index]\n",
        "\n",
        "        model.fit(X_train_fold.get(), y_train_fold.get())\n",
        "        predictions = model.predict(X_test_fold.get())\n",
        "\n",
        "        accuracy = accuracy_score(y_test_fold.get(), predictions)\n",
        "        f1 = f1_score(y_test_fold.get(), predictions, average='weighted')\n",
        "\n",
        "        accuracy_scores.append(accuracy)\n",
        "        f1_scores.append(f1)\n",
        "\n",
        "    return np.mean(accuracy_scores), np.mean(f1_scores)\n",
        "lr_model = cuLogisticRegression()\n",
        "average_accuracy, average_f1 = cross_val_score(lr_model, X_train, y_train, cv=5)\n",
        "print(f'Logistic Regression with Unigrams: Average Accuracy={average_accuracy}, Average F1-score={average_f1}')\n"
      ],
      "metadata": {
        "id": "_sJpgT29FztS",
        "colab": {
          "base_uri": "https://localhost:8080/"
        },
        "outputId": "56f9319f-a7e8-4b5a-df7d-f80177bee0d8"
      },
      "execution_count": 9,
      "outputs": [
        {
          "output_type": "stream",
          "name": "stderr",
          "text": [
            "[nltk_data] Downloading package stopwords to /root/nltk_data...\n",
            "[nltk_data]   Package stopwords is already up-to-date!\n"
          ]
        }
      ]
    },
    {
      "cell_type": "markdown",
      "source": [
        "## LR uni + bi grams\n"
      ],
      "metadata": {
        "id": "8kaubg9zhdi4"
      }
    },
    {
      "cell_type": "code",
      "source": [
        "import pandas as pd\n",
        "import cudf\n",
        "from cuml.model_selection import train_test_split\n",
        "from sklearn.feature_extraction.text import TfidfVectorizer\n",
        "from cuml.svm import SVC\n",
        "from sklearn.metrics import accuracy_score, classification_report, f1_score\n",
        "import cupy as cp\n",
        "from sklearn.preprocessing import LabelEncoder\n",
        "import numpy as np\n",
        "import nltk\n",
        "from nltk.corpus import stopwords\n",
        "from cuml.linear_model import LogisticRegression as cuLogisticRegression\n",
        "from sklearn.model_selection import KFold\n",
        "\n",
        "nltk.download('stopwords')\n",
        "nltk_stopwords = stopwords.words('english')\n",
        "data = pd.read_csv('/content/drive/MyDrive/political_leaning_cleaned_dropped.csv')\n",
        "X = data['clean_post']\n",
        "y = data['political_leaning']\n",
        "tfidf_vectorizer = TfidfVectorizer(max_features = 10000, stop_words = nltk_stopwords, ngram_range = (1,2))\n",
        "X_tfidf = tfidf_vectorizer.fit_transform(X)\n",
        "X_tfidf_cudf = cudf.DataFrame(X_tfidf.toarray())\n",
        "label_encoder = LabelEncoder()\n",
        "y_encoded = label_encoder.fit_transform(y)\n",
        "y_gpu = cp.array(y_encoded)\n",
        "\n",
        "X_train, X_test, y_train, y_test = train_test_split(X_tfidf_cudf, y_gpu, test_size=0.2, random_state=42)\n",
        "ef cross_val_score(model, X, y, cv=5):\n",
        "    kf = KFold(n_splits=cv, shuffle=True, random_state=42)\n",
        "    accuracy_scores = []\n",
        "    f1_scores = []\n",
        "    for train_index, test_index in kf.split(X.to_pandas().values):\n",
        "        X_train_fold = X.iloc[train_index].to_cupy()\n",
        "        X_test_fold = X.iloc[test_index].to_cupy()\n",
        "        y_train_fold = y[train_index]\n",
        "        y_test_fold = y[test_index]\n",
        "\n",
        "        model.fit(X_train_fold.get(), y_train_fold.get())\n",
        "        predictions = model.predict(X_test_fold.get())\n",
        "\n",
        "        accuracy = accuracy_score(y_test_fold.get(), predictions)\n",
        "        f1 = f1_score(y_test_fold.get(), predictions, average='weighted')\n",
        "\n",
        "        accuracy_scores.append(accuracy)\n",
        "        f1_scores.append(f1)\n",
        "\n",
        "    return np.mean(accuracy_scores), np.mean(f1_scores)\n",
        "lr_model = cuLogisticRegression()\n",
        "average_accuracy, average_f1 = cross_val_score(lr_model, X_train, y_train, cv=5)\n",
        "print(f'Logistic Regression with Unigrams: Average Accuracy={average_accuracy}, Average F1-score={average_f1}')\n"
      ],
      "metadata": {
        "id": "2Gs-IUDhhfh5"
      },
      "execution_count": null,
      "outputs": []
    },
    {
      "cell_type": "markdown",
      "source": [
        "##LR with Tri-grams"
      ],
      "metadata": {
        "id": "pE8C-SQrGqSd"
      }
    },
    {
      "cell_type": "code",
      "source": [
        "import pandas as pd\n",
        "import cudf\n",
        "from cuml.model_selection import train_test_split\n",
        "from sklearn.feature_extraction.text import TfidfVectorizer\n",
        "from cuml.svm import SVC\n",
        "from sklearn.metrics import accuracy_score, classification_report, f1_score\n",
        "import cupy as cp\n",
        "from sklearn.preprocessing import LabelEncoder\n",
        "import numpy as np\n",
        "import nltk\n",
        "from nltk.corpus import stopwords\n",
        "from cuml.linear_model import LogisticRegression as cuLogisticRegression\n",
        "from sklearn.model_selection import KFold\n",
        "\n",
        "nltk.download('stopwords')\n",
        "nltk_stopwords = stopwords.words('english')\n",
        "data = pd.read_csv('/content/drive/MyDrive/political_leaning_cleaned_dropped.csv')\n",
        "X = data['clean_post']\n",
        "y = data['political_leaning']\n",
        "tfidf_vectorizer = TfidfVectorizer(max_features = 10000, stop_words = nltk_stopwords, ngram_range = (3,3))\n",
        "X_tfidf = tfidf_vectorizer.fit_transform(X)\n",
        "X_tfidf_cudf = cudf.DataFrame(X_tfidf.toarray())\n",
        "label_encoder = LabelEncoder()\n",
        "y_encoded = label_encoder.fit_transform(y)\n",
        "y_gpu = cp.array(y_encoded)\n",
        "\n",
        "X_train, X_test, y_train, y_test = train_test_split(X_tfidf_cudf, y_gpu, test_size=0.2, random_state=42)\n",
        "ef cross_val_score(model, X, y, cv=5):\n",
        "    kf = KFold(n_splits=cv, shuffle=True, random_state=42)\n",
        "    accuracy_scores = []\n",
        "    f1_scores = []\n",
        "    for train_index, test_index in kf.split(X.to_pandas().values):\n",
        "        X_train_fold = X.iloc[train_index].to_cupy()\n",
        "        X_test_fold = X.iloc[test_index].to_cupy()\n",
        "        y_train_fold = y[train_index]\n",
        "        y_test_fold = y[test_index]\n",
        "\n",
        "        model.fit(X_train_fold.get(), y_train_fold.get())\n",
        "        predictions = model.predict(X_test_fold.get())\n",
        "\n",
        "        accuracy = accuracy_score(y_test_fold.get(), predictions)\n",
        "        f1 = f1_score(y_test_fold.get(), predictions, average='weighted')\n",
        "\n",
        "        accuracy_scores.append(accuracy)\n",
        "        f1_scores.append(f1)\n",
        "\n",
        "    return np.mean(accuracy_scores), np.mean(f1_scores)\n",
        "lr_model = cuLogisticRegression()\n",
        "average_accuracy, average_f1 = cross_val_score(lr_model, X_train, y_train, cv=5)\n",
        "print(f'Logistic Regression with Unigrams: Average Accuracy={average_accuracy}, Average F1-score={average_f1}')\n"
      ],
      "metadata": {
        "id": "nhgxUUalGoHU"
      },
      "execution_count": null,
      "outputs": []
    },
    {
      "cell_type": "markdown",
      "source": [
        "## LR with Uni + Bi + Tri grams"
      ],
      "metadata": {
        "id": "AgsqvDWRhm60"
      }
    },
    {
      "cell_type": "code",
      "source": [
        "import pandas as pd\n",
        "import cudf\n",
        "from cuml.model_selection import train_test_split\n",
        "from sklearn.feature_extraction.text import TfidfVectorizer\n",
        "from cuml.svm import SVC\n",
        "from sklearn.metrics import accuracy_score, classification_report, f1_score\n",
        "import cupy as cp\n",
        "from sklearn.preprocessing import LabelEncoder\n",
        "import numpy as np\n",
        "import nltk\n",
        "from nltk.corpus import stopwords\n",
        "from cuml.linear_model import LogisticRegression as cuLogisticRegression\n",
        "from sklearn.model_selection import KFold\n",
        "\n",
        "nltk.download('stopwords')\n",
        "nltk_stopwords = stopwords.words('english')\n",
        "data = pd.read_csv('/content/drive/MyDrive/political_leaning_cleaned_dropped.csv')\n",
        "X = data['clean_post']\n",
        "y = data['political_leaning']\n",
        "tfidf_vectorizer = TfidfVectorizer(max_features = 10000, stop_words = nltk_stopwords, ngram_range = (1,3))\n",
        "X_tfidf = tfidf_vectorizer.fit_transform(X)\n",
        "X_tfidf_cudf = cudf.DataFrame(X_tfidf.toarray())\n",
        "label_encoder = LabelEncoder()\n",
        "y_encoded = label_encoder.fit_transform(y)\n",
        "y_gpu = cp.array(y_encoded)\n",
        "\n",
        "X_train, X_test, y_train, y_test = train_test_split(X_tfidf_cudf, y_gpu, test_size=0.2, random_state=42)\n",
        "ef cross_val_score(model, X, y, cv=5):\n",
        "    kf = KFold(n_splits=cv, shuffle=True, random_state=42)\n",
        "    accuracy_scores = []\n",
        "    f1_scores = []\n",
        "    for train_index, test_index in kf.split(X.to_pandas().values):\n",
        "        X_train_fold = X.iloc[train_index].to_cupy()\n",
        "        X_test_fold = X.iloc[test_index].to_cupy()\n",
        "        y_train_fold = y[train_index]\n",
        "        y_test_fold = y[test_index]\n",
        "\n",
        "        model.fit(X_train_fold.get(), y_train_fold.get())\n",
        "        predictions = model.predict(X_test_fold.get())\n",
        "\n",
        "        accuracy = accuracy_score(y_test_fold.get(), predictions)\n",
        "        f1 = f1_score(y_test_fold.get(), predictions, average='weighted')\n",
        "\n",
        "        accuracy_scores.append(accuracy)\n",
        "        f1_scores.append(f1)\n",
        "\n",
        "    return np.mean(accuracy_scores), np.mean(f1_scores)\n",
        "lr_model = cuLogisticRegression()\n",
        "average_accuracy, average_f1 = cross_val_score(lr_model, X_train, y_train, cv=5)\n",
        "print(f'Logistic Regression with Unigrams: Average Accuracy={average_accuracy}, Average F1-score={average_f1}')\n"
      ],
      "metadata": {
        "id": "4dNl_B9aho0a",
        "colab": {
          "base_uri": "https://localhost:8080/"
        },
        "outputId": "234bb807-a12d-4a60-bdb9-7ab4d65937c0"
      },
      "execution_count": 7,
      "outputs": [
        {
          "output_type": "stream",
          "name": "stderr",
          "text": [
            "[nltk_data] Downloading package stopwords to /root/nltk_data...\n",
            "[nltk_data]   Package stopwords is already up-to-date!\n"
          ]
        }
      ]
    },
    {
      "cell_type": "markdown",
      "source": [
        "## LR HyperParameter Tuning"
      ],
      "metadata": {
        "id": "FppNcUwoVgj9"
      }
    },
    {
      "cell_type": "code",
      "source": [
        "import pandas as pd\n",
        "import cudf\n",
        "from cuml.model_selection import train_test_split\n",
        "from sklearn.feature_extraction.text import TfidfVectorizer\n",
        "from cuml.svm import SVC\n",
        "from sklearn.metrics import accuracy_score, classification_report\n",
        "import cupy as cp\n",
        "from sklearn.preprocessing import LabelEncoder\n",
        "import numpy as np\n",
        "import nltk\n",
        "from nltk.corpus import stopwords\n",
        "from cuml.linear_model import LogisticRegression as cuLogisticRegression\n",
        "from sklearn.model_selection import KFold\n",
        "from cuml.metrics import accuracy_score\n",
        "nltk.download('stopwords')\n",
        "nltk_stopwords = stopwords.words('english')\n",
        "data = pd.read_csv('/content/drive/MyDrive/political_leaning_cleaned_dropped.csv')\n",
        "X = data['clean_post']\n",
        "y = data['political_leaning']\n",
        "\n",
        "tfidf_vectorizer = TfidfVectorizer(max_features = 10000, stop_words = nltk_stopwords)\n",
        "X_tfidf = tfidf_vectorizer.fit_transform(X)\n",
        "\n",
        "X_tfidf_cudf = cudf.DataFrame(X_tfidf.toarray())\n",
        "label_encoder = LabelEncoder()\n",
        "y_encoded = label_encoder.fit_transform(y)\n",
        "y_gpu = cp.array(y_encoded)\n",
        "\n",
        "X_train, X_test, y_train, y_test = train_test_split(X_tfidf_cudf, y_gpu, test_size=0.2, random_state=42)\n",
        "\n",
        "\n",
        "kf = KFold(n_splits=5, random_state=42, shuffle=True)\n",
        "\n",
        "best_accuracy = 0\n",
        "best_params = {}\n",
        "\n",
        "param_grid_C = [0.01, 0.1, 1, 10, 100]\n",
        "param_grid_penalty = ['l1', 'l2']\n",
        "\n",
        "for C in param_grid_C:\n",
        "    for penalty in param_grid_penalty:\n",
        "        accuracies = []\n",
        "        for train_index, test_index in kf.split(X_tfidf_cudf):\n",
        "            X_train, X_test = X_tfidf_cudf.iloc[train_index].to_cupy(), X_tfidf_cudf.iloc[test_index].to_cupy()\n",
        "            y_train, y_test = y_gpu[train_index], y_gpu[test_index]\n",
        "\n",
        "            lr_model = cuLogisticRegression(C=C, penalty=penalty)\n",
        "            lr_model.fit(X_train, y_train)\n",
        "\n",
        "            predictions = lr_model.predict(X_test)\n",
        "            acc = accuracy_score(y_test.get(), predictions.get())\n",
        "            accuracies.append(acc)\n",
        "\n",
        "        avg_accuracy = np.mean(accuracies)\n",
        "        print(f'Tested C={C}, penalty={penalty}, Average Accuracy={avg_accuracy}')\n",
        "\n",
        "        if avg_accuracy > best_accuracy:\n",
        "            best_accuracy = avg_accuracy\n",
        "            best_params = {'C': C, 'penalty': penalty}\n",
        "\n",
        "print(\"Best parameters found: \", best_params)\n",
        "print(\"Best accuracy: \", best_accuracy)\n",
        "\n",
        "X_train, X_test, y_train, y_test = train_test_split(X_tfidf_cudf.to_cupy(), y_gpu, test_size=0.2, random_state=42)\n",
        "\n",
        "best_lr = cuLogisticRegression(C=best_params['C'], penalty=best_params['penalty'])\n",
        "best_lr.fit(X_train, y_train)\n",
        "\n",
        "predictions = best_lr.predict(X_test)\n",
        "accuracy = accuracy_score(y_test.get(), predictions.get())\n",
        "print(f'Test set accuracy: {accuracy}')\n",
        "\n"
      ],
      "metadata": {
        "id": "s_coqtewVkFA"
      },
      "execution_count": null,
      "outputs": []
    },
    {
      "cell_type": "code",
      "source": [
        "from sklearn.metrics import accuracy_score as sklearn_accuracy_score, classification_report, confusion_matrix\n",
        "import seaborn as sns\n",
        "import matplotlib.pyplot as plt\n",
        "\n",
        "predictions_np = cp.asnumpy(predictions)\n",
        "y_test_np = cp.asnumpy(y_test)\n",
        "\n",
        "conf_matrix = confusion_matrix(y_test_np, predictions_np)\n",
        "\n",
        "plt.figure(figsize=(10, 7))\n",
        "sns.heatmap(conf_matrix, annot=True, fmt='d', cmap='Reds', xticklabels=label_encoder.classes_, yticklabels=label_encoder.classes_)\n",
        "plt.xlabel('Predicted Label')\n",
        "plt.ylabel('True Label')\n",
        "plt.title('Confusion Matrix for Logistic Regression')\n",
        "plt.show()\n",
        "\n",
        "print(\"Accuracy:\", sklearn_accuracy_score(y_test_np, predictions_np))\n",
        "print(\"Classification Report:\\n\", classification_report(y_test_np, predictions_np, target_names=label_encoder.classes_))"
      ],
      "metadata": {
        "id": "B6xcUPrZ2fa9"
      },
      "execution_count": null,
      "outputs": []
    },
    {
      "cell_type": "markdown",
      "source": [
        "# Feature Analysis"
      ],
      "metadata": {
        "id": "VmpHn11AEv44"
      }
    },
    {
      "cell_type": "code",
      "source": [
        "import numpy as np\n",
        "import pandas as pd\n",
        "import matplotlib.pyplot as plt\n",
        "from sklearn.feature_extraction.text import TfidfVectorizer\n",
        "from sklearn.linear_model import LogisticRegression\n",
        "from sklearn.model_selection import train_test_split\n",
        "\n",
        "class_labels = label_encoder.classes_\n",
        "coefficients = best_lr.coef_.to_numpy() y\n",
        "\n",
        "feature_names = tfidf_vectorizer.get_feature_names_out()\n",
        "\n",
        "num_classes = coefficients.shape[0]\n",
        "for class_index in range(num_classes):\n",
        "    class_coefficients = coefficients[class_index]\n",
        "    feature_importance_df = pd.DataFrame({\n",
        "        'Feature': feature_names,\n",
        "        'Coefficient': class_coefficients\n",
        "    })\n",
        "    feature_importance_df['Absolute_Coefficient'] = feature_importance_df['Coefficient'].abs()\n",
        "    feature_importance_df = feature_importance_df.sort_values(by='Absolute_Coefficient', ascending=False)\n",
        "    print(f\"Top 10 features for class {class_labels[class_index]}:\")\n",
        "    print(feature_importance_df.head(10))\n",
        "    top_n = 20\n",
        "    plt.figure(figsize=(10, 8))\n",
        "    plt.barh(feature_importance_df['Feature'].head(top_n), feature_importance_df['Coefficient'].head(top_n))\n",
        "    plt.xlabel('Coefficient')\n",
        "    plt.title(f'Top 20 Features Importance for Class {class_labels[class_index]}')\n",
        "    plt.gca().invert_yaxis()\n",
        "    plt.show()"
      ],
      "metadata": {
        "id": "ziR2EU-5mJYD"
      },
      "execution_count": null,
      "outputs": []
    },
    {
      "cell_type": "markdown",
      "source": [
        "#SMOTE"
      ],
      "metadata": {
        "id": "0ViLVC-LgEhz"
      }
    },
    {
      "cell_type": "code",
      "source": [
        "!pip install smote"
      ],
      "metadata": {
        "id": "a362vx67hDDk"
      },
      "execution_count": null,
      "outputs": []
    },
    {
      "cell_type": "markdown",
      "source": [
        "## Logistic Regression"
      ],
      "metadata": {
        "id": "I_bHnq1ygIRs"
      }
    },
    {
      "cell_type": "code",
      "source": [
        "import pandas as pd\n",
        "import cupy as cp\n",
        "import cudf\n",
        "from cuml.feature_extraction.text import TfidfVectorizer\n",
        "from cuml.linear_model import LogisticRegression as cuLogisticRegression\n",
        "from sklearn.model_selection import train_test_split, KFold\n",
        "from cuml.metrics import accuracy_score\n",
        "from sklearn.preprocessing import LabelEncoder\n",
        "from imblearn.over_sampling import SMOTE\n",
        "import nltk\n",
        "from nltk.corpus import stopwords\n",
        "nltk.download('stopwords')\n",
        "nltk_stopwords = stopwords.words('english')\n",
        "\n",
        "data = pd.read_csv('/content/drive/MyDrive/political_leaning_cleaned_dropped.csv')\n",
        "X = data['clean_post']\n",
        "y = data['political_leaning']\n",
        "\n",
        "tfidf_vectorizer = TfidfVectorizer(max_features=10000,stop_words= nltk_stopwords)\n",
        "X_tfidf = tfidf_vectorizer.fit_transform(X)\n",
        "\n",
        "label_encoder = LabelEncoder()\n",
        "y_encoded = label_encoder.fit_transform(y)\n",
        "\n",
        "\n",
        "\n"
      ],
      "metadata": {
        "id": "KMP003-xgGNU"
      },
      "execution_count": null,
      "outputs": []
    },
    {
      "cell_type": "code",
      "source": [
        "import numpy as np\n",
        "\n",
        "X_dense = X_tfidf.toarray().get()\n",
        "\n",
        "\n",
        "smote = SMOTE()\n",
        "X_resampled, y_resampled = smote.fit_resample(X_dense, y_encoded)\n",
        "\n"
      ],
      "metadata": {
        "id": "IxG_PC--gHpX"
      },
      "execution_count": null,
      "outputs": []
    },
    {
      "cell_type": "code",
      "source": [
        "X_resampled_cudf = cudf.DataFrame(X_resampled)\n",
        "y_resampled_gpu = cp.array(y_resampled)\n",
        "\n",
        "\n",
        "kf = KFold(n_splits=5, random_state=42, shuffle=True)\n",
        "\n",
        "best_accuracy = 0\n",
        "best_params = {}\n",
        "\n",
        "param_grid_C = [0.01, 0.1, 1, 10, 100]\n",
        "penalty_options = ['l1','l2']\n",
        "\n",
        "for C in param_grid_C:\n",
        "    for penalty in penalty_options:\n",
        "        accuracies = []\n",
        "        for train_index, test_index in kf.split(X_resampled_cudf):\n",
        "            X_train, X_test = X_resampled_cudf.iloc[train_index].to_cupy(), X_resampled_cudf.iloc[test_index].to_cupy()\n",
        "            y_train, y_test = y_resampled_gpu[train_index], y_resampled_gpu[test_index]\n",
        "\n",
        "            lr_model = cuLogisticRegression(penalty=penalty, C=C)\n",
        "            lr_model.fit(X_train, y_train)\n",
        "\n",
        "            predictions = lr_model.predict(X_test)\n",
        "            acc = accuracy_score(y_test.get(), predictions.get())\n",
        "            accuracies.append(acc)\n",
        "\n",
        "        avg_accuracy = np.mean(accuracies)\n",
        "        print(f'Tested C={C}, penalty={penalty}, Average Accuracy={avg_accuracy}')\n",
        "\n",
        "        if avg_accuracy > best_accuracy:\n",
        "            best_accuracy = avg_accuracy\n",
        "            best_params = {'C': C, 'penalty': penalty}\n",
        "\n",
        "print(\"Best parameters found: \", best_params)\n",
        "print(\"Best accuracy: \", best_accuracy)\n",
        "\n",
        "X_train, X_test, y_train, y_test = train_test_split(X_resampled_cudf.to_cupy(), y_resampled_gpu, test_size=0.2, random_state=42)\n",
        "\n",
        "best_lr = cuLogisticRegression(penalty=best_params['penalty'], C=best_params['C'])\n",
        "best_lr.fit(X_train, y_train)\n",
        "\n",
        "predictions = best_lr.predict(X_test)\n",
        "accuracy = accuracy_score(y_test.get(), predictions.get())\n",
        "print(f'Test set accuracy: {accuracy}')\n",
        "\n",
        "from sklearn.metrics import classification_report"
      ],
      "metadata": {
        "id": "vVehgvCTnkiC"
      },
      "execution_count": null,
      "outputs": []
    },
    {
      "cell_type": "code",
      "source": [
        "print(\"Classification Report:\\n\", classification_report(y_test.get(), predictions.get(), target_names=label_encoder.classes_))\n"
      ],
      "metadata": {
        "id": "uVp0aZFfovRE"
      },
      "execution_count": null,
      "outputs": []
    },
    {
      "cell_type": "code",
      "source": [
        "from sklearn.metrics import accuracy_score as sklearn_accuracy_score, classification_report, confusion_matrix\n",
        "import seaborn as sns\n",
        "import matplotlib.pyplot as plt\n",
        "\n",
        "predictions_np = cp.asnumpy(predictions)\n",
        "y_test_np = cp.asnumpy(y_test)\n",
        "\n",
        "conf_matrix = confusion_matrix(y_test_np, predictions_np)\n",
        "\n",
        "plt.figure(figsize=(10, 7))\n",
        "sns.heatmap(conf_matrix, annot=True, fmt='d', cmap='Reds', xticklabels=label_encoder.classes_, yticklabels=label_encoder.classes_)\n",
        "plt.xlabel('Predicted Label')\n",
        "plt.ylabel('True Label')\n",
        "plt.title('Confusion Matrix for LR with SMOTE')\n",
        "plt.show()\n",
        "\n",
        "print(\"Accuracy:\", sklearn_accuracy_score(y_test_np, predictions_np))\n",
        "print(\"Classification Report:\\n\", classification_report(y_test_np, predictions_np, target_names=label_encoder.classes_))"
      ],
      "metadata": {
        "id": "Xr8XoZgZvu6k"
      },
      "execution_count": null,
      "outputs": []
    },
    {
      "cell_type": "markdown",
      "source": [
        "## RBF SVM with SMOTE"
      ],
      "metadata": {
        "id": "2VvrXU9MpKQA"
      }
    },
    {
      "cell_type": "code",
      "source": [
        "from cuml.svm import SVC\n",
        "\n",
        "kf = KFold(n_splits=5, random_state=42, shuffle=True)\n",
        "\n",
        "best_accuracy = 0\n",
        "best_params = {}\n",
        "\n",
        "param_grid_C = [0.1, 1, 10, 100]\n",
        "param_grid_gamma = [1, 0.1, 0.01, 0.001]\n",
        "\n",
        "for C in param_grid_C:\n",
        "    for gamma in param_grid_gamma:\n",
        "        accuracies = []\n",
        "        for train_index, test_index in kf.split(X_resampled_cudf):\n",
        "            X_train, X_test = X_resampled_cudf.iloc[train_index].to_cupy(), X_resampled_cudf.iloc[test_index].to_cupy()\n",
        "            y_train, y_test = y_resampled_gpu[train_index], y_resampled_gpu[test_index]\n",
        "\n",
        "            svm_model = SVC(kernel='rbf', C=C, gamma=gamma)\n",
        "            svm_model.fit(X_train, y_train)\n",
        "\n",
        "            predictions = svm_model.predict(X_test)\n",
        "            acc = accuracy_score(y_test.get(), predictions.get())\n",
        "            accuracies.append(acc)\n",
        "\n",
        "        avg_accuracy = np.mean(accuracies)\n",
        "        print(f'Tested C={C}, gamma={gamma}, Average Accuracy={avg_accuracy}')\n",
        "\n",
        "        if avg_accuracy > best_accuracy:\n",
        "            best_accuracy = avg_accuracy\n",
        "            best_params = {'C': C, 'gamma': gamma}\n",
        "\n",
        "print(\"Best parameters found: \", best_params)\n",
        "print(\"Best accuracy: \", best_accuracy)\n",
        "\n",
        "X_train, X_test, y_train, y_test = train_test_split(X_resampled_cudf.to_cupy(), y_resampled_gpu, test_size=0.2, random_state=42)\n",
        "\n",
        "best_svm = SVC(kernel='rbf', C=best_params['C'], gamma=best_params['gamma'])\n",
        "best_svm.fit(X_train, y_train)\n",
        "\n",
        "predictions = best_svm.predict(X_test)\n",
        "accuracy = accuracy_score(y_test.get(), predictions.get())\n",
        "print(f'Test set accuracy: {accuracy}')\n",
        "\n",
        "print(\"Classification Report:\\n\", classification_report(y_test.get(), predictions.get(), target_names=label_encoder.classes_))"
      ],
      "metadata": {
        "id": "l7E86gbxoxcp"
      },
      "execution_count": null,
      "outputs": []
    },
    {
      "cell_type": "code",
      "source": [
        "from sklearn.metrics import accuracy_score as sklearn_accuracy_score, classification_report, confusion_matrix\n",
        "import seaborn as sns\n",
        "import matplotlib.pyplot as plt\n",
        "\n",
        "predictions_np = cp.asnumpy(predictions)\n",
        "y_test_np = cp.asnumpy(y_test)\n",
        "\n",
        "conf_matrix = confusion_matrix(y_test_np, predictions_np)\n",
        "\n",
        "plt.figure(figsize=(10, 7))\n",
        "sns.heatmap(conf_matrix, annot=True, fmt='d', cmap='Reds', xticklabels=label_encoder.classes_, yticklabels=label_encoder.classes_)\n",
        "plt.xlabel('Predicted Label')\n",
        "plt.ylabel('True Label')\n",
        "plt.title('Confusion Matrix for RBF SVM with SMOTE')\n",
        "plt.show()\n",
        "\n",
        "print(\"Accuracy:\", sklearn_accuracy_score(y_test_np, predictions_np))\n",
        "print(\"Classification Report:\\n\", classification_report(y_test_np, predictions_np, target_names=label_encoder.classes_))"
      ],
      "metadata": {
        "id": "3T3ZUrhOucuw"
      },
      "execution_count": null,
      "outputs": []
    },
    {
      "cell_type": "markdown",
      "source": [
        "#BERT"
      ],
      "metadata": {
        "id": "Pax63nLzu3x3"
      }
    },
    {
      "cell_type": "markdown",
      "source": [
        "### Install Packages"
      ],
      "metadata": {
        "id": "vEFx3QiJ7bL2"
      }
    },
    {
      "cell_type": "code",
      "source": [
        "!pip install datasets transformers[torch] accelerate -U\n"
      ],
      "metadata": {
        "colab": {
          "base_uri": "https://localhost:8080/"
        },
        "id": "I5iaZDVvvS9Q",
        "outputId": "54aea024-5c9c-48c4-b8a5-f169062da16d"
      },
      "execution_count": 1,
      "outputs": [
        {
          "output_type": "stream",
          "name": "stdout",
          "text": [
            "Collecting datasets\n",
            "  Downloading datasets-2.19.1-py3-none-any.whl (542 kB)\n",
            "\u001b[2K     \u001b[90m━━━━━━━━━━━━━━━━━━━━━━━━━━━━━━━━━━━━━━━━\u001b[0m \u001b[32m542.0/542.0 kB\u001b[0m \u001b[31m6.2 MB/s\u001b[0m eta \u001b[36m0:00:00\u001b[0m\n",
            "\u001b[?25hRequirement already satisfied: transformers[torch] in /usr/local/lib/python3.10/dist-packages (4.40.2)\n",
            "Collecting transformers[torch]\n",
            "  Downloading transformers-4.41.0-py3-none-any.whl (9.1 MB)\n",
            "\u001b[2K     \u001b[90m━━━━━━━━━━━━━━━━━━━━━━━━━━━━━━━━━━━━━━━━\u001b[0m \u001b[32m9.1/9.1 MB\u001b[0m \u001b[31m59.6 MB/s\u001b[0m eta \u001b[36m0:00:00\u001b[0m\n",
            "\u001b[?25hCollecting accelerate\n",
            "  Downloading accelerate-0.30.1-py3-none-any.whl (302 kB)\n",
            "\u001b[2K     \u001b[90m━━━━━━━━━━━━━━━━━━━━━━━━━━━━━━━━━━━━━━━━\u001b[0m \u001b[32m302.6/302.6 kB\u001b[0m \u001b[31m25.3 MB/s\u001b[0m eta \u001b[36m0:00:00\u001b[0m\n",
            "\u001b[?25hRequirement already satisfied: filelock in /usr/local/lib/python3.10/dist-packages (from datasets) (3.14.0)\n",
            "Requirement already satisfied: numpy>=1.17 in /usr/local/lib/python3.10/dist-packages (from datasets) (1.25.2)\n",
            "Requirement already satisfied: pyarrow>=12.0.0 in /usr/local/lib/python3.10/dist-packages (from datasets) (14.0.2)\n",
            "Requirement already satisfied: pyarrow-hotfix in /usr/local/lib/python3.10/dist-packages (from datasets) (0.6)\n",
            "Collecting dill<0.3.9,>=0.3.0 (from datasets)\n",
            "  Downloading dill-0.3.8-py3-none-any.whl (116 kB)\n",
            "\u001b[2K     \u001b[90m━━━━━━━━━━━━━━━━━━━━━━━━━━━━━━━━━━━━━━━━\u001b[0m \u001b[32m116.3/116.3 kB\u001b[0m \u001b[31m14.4 MB/s\u001b[0m eta \u001b[36m0:00:00\u001b[0m\n",
            "\u001b[?25hRequirement already satisfied: pandas in /usr/local/lib/python3.10/dist-packages (from datasets) (2.0.3)\n",
            "Requirement already satisfied: requests>=2.19.0 in /usr/local/lib/python3.10/dist-packages (from datasets) (2.31.0)\n",
            "Requirement already satisfied: tqdm>=4.62.1 in /usr/local/lib/python3.10/dist-packages (from datasets) (4.66.4)\n",
            "Collecting xxhash (from datasets)\n",
            "  Downloading xxhash-3.4.1-cp310-cp310-manylinux_2_17_x86_64.manylinux2014_x86_64.whl (194 kB)\n",
            "\u001b[2K     \u001b[90m━━━━━━━━━━━━━━━━━━━━━━━━━━━━━━━━━━━━━━━━\u001b[0m \u001b[32m194.1/194.1 kB\u001b[0m \u001b[31m3.3 MB/s\u001b[0m eta \u001b[36m0:00:00\u001b[0m\n",
            "\u001b[?25hCollecting multiprocess (from datasets)\n",
            "  Downloading multiprocess-0.70.16-py310-none-any.whl (134 kB)\n",
            "\u001b[2K     \u001b[90m━━━━━━━━━━━━━━━━━━━━━━━━━━━━━━━━━━━━━━━━\u001b[0m \u001b[32m134.8/134.8 kB\u001b[0m \u001b[31m11.4 MB/s\u001b[0m eta \u001b[36m0:00:00\u001b[0m\n",
            "\u001b[?25hRequirement already satisfied: fsspec[http]<=2024.3.1,>=2023.1.0 in /usr/local/lib/python3.10/dist-packages (from datasets) (2023.6.0)\n",
            "Requirement already satisfied: aiohttp in /usr/local/lib/python3.10/dist-packages (from datasets) (3.9.5)\n",
            "Collecting huggingface-hub>=0.21.2 (from datasets)\n",
            "  Downloading huggingface_hub-0.23.0-py3-none-any.whl (401 kB)\n",
            "\u001b[2K     \u001b[90m━━━━━━━━━━━━━━━━━━━━━━━━━━━━━━━━━━━━━━━━\u001b[0m \u001b[32m401.2/401.2 kB\u001b[0m \u001b[31m25.6 MB/s\u001b[0m eta \u001b[36m0:00:00\u001b[0m\n",
            "\u001b[?25hRequirement already satisfied: packaging in /usr/local/lib/python3.10/dist-packages (from datasets) (24.0)\n",
            "Requirement already satisfied: pyyaml>=5.1 in /usr/local/lib/python3.10/dist-packages (from datasets) (6.0.1)\n",
            "Requirement already satisfied: regex!=2019.12.17 in /usr/local/lib/python3.10/dist-packages (from transformers[torch]) (2023.12.25)\n",
            "Requirement already satisfied: tokenizers<0.20,>=0.19 in /usr/local/lib/python3.10/dist-packages (from transformers[torch]) (0.19.1)\n",
            "Requirement already satisfied: safetensors>=0.4.1 in /usr/local/lib/python3.10/dist-packages (from transformers[torch]) (0.4.3)\n",
            "Requirement already satisfied: torch in /usr/local/lib/python3.10/dist-packages (from transformers[torch]) (2.2.1+cu121)\n",
            "Requirement already satisfied: psutil in /usr/local/lib/python3.10/dist-packages (from accelerate) (5.9.5)\n",
            "Requirement already satisfied: aiosignal>=1.1.2 in /usr/local/lib/python3.10/dist-packages (from aiohttp->datasets) (1.3.1)\n",
            "Requirement already satisfied: attrs>=17.3.0 in /usr/local/lib/python3.10/dist-packages (from aiohttp->datasets) (23.2.0)\n",
            "Requirement already satisfied: frozenlist>=1.1.1 in /usr/local/lib/python3.10/dist-packages (from aiohttp->datasets) (1.4.1)\n",
            "Requirement already satisfied: multidict<7.0,>=4.5 in /usr/local/lib/python3.10/dist-packages (from aiohttp->datasets) (6.0.5)\n",
            "Requirement already satisfied: yarl<2.0,>=1.0 in /usr/local/lib/python3.10/dist-packages (from aiohttp->datasets) (1.9.4)\n",
            "Requirement already satisfied: async-timeout<5.0,>=4.0 in /usr/local/lib/python3.10/dist-packages (from aiohttp->datasets) (4.0.3)\n",
            "Requirement already satisfied: typing-extensions>=3.7.4.3 in /usr/local/lib/python3.10/dist-packages (from huggingface-hub>=0.21.2->datasets) (4.11.0)\n",
            "Requirement already satisfied: charset-normalizer<4,>=2 in /usr/local/lib/python3.10/dist-packages (from requests>=2.19.0->datasets) (3.3.2)\n",
            "Requirement already satisfied: idna<4,>=2.5 in /usr/local/lib/python3.10/dist-packages (from requests>=2.19.0->datasets) (3.7)\n",
            "Requirement already satisfied: urllib3<3,>=1.21.1 in /usr/local/lib/python3.10/dist-packages (from requests>=2.19.0->datasets) (2.0.7)\n",
            "Requirement already satisfied: certifi>=2017.4.17 in /usr/local/lib/python3.10/dist-packages (from requests>=2.19.0->datasets) (2024.2.2)\n",
            "Requirement already satisfied: sympy in /usr/local/lib/python3.10/dist-packages (from torch->transformers[torch]) (1.12)\n",
            "Requirement already satisfied: networkx in /usr/local/lib/python3.10/dist-packages (from torch->transformers[torch]) (3.3)\n",
            "Requirement already satisfied: jinja2 in /usr/local/lib/python3.10/dist-packages (from torch->transformers[torch]) (3.1.4)\n",
            "Collecting nvidia-cuda-nvrtc-cu12==12.1.105 (from torch->transformers[torch])\n",
            "  Using cached nvidia_cuda_nvrtc_cu12-12.1.105-py3-none-manylinux1_x86_64.whl (23.7 MB)\n",
            "Collecting nvidia-cuda-runtime-cu12==12.1.105 (from torch->transformers[torch])\n",
            "  Using cached nvidia_cuda_runtime_cu12-12.1.105-py3-none-manylinux1_x86_64.whl (823 kB)\n",
            "Collecting nvidia-cuda-cupti-cu12==12.1.105 (from torch->transformers[torch])\n",
            "  Using cached nvidia_cuda_cupti_cu12-12.1.105-py3-none-manylinux1_x86_64.whl (14.1 MB)\n",
            "Collecting nvidia-cudnn-cu12==8.9.2.26 (from torch->transformers[torch])\n",
            "  Using cached nvidia_cudnn_cu12-8.9.2.26-py3-none-manylinux1_x86_64.whl (731.7 MB)\n",
            "Collecting nvidia-cublas-cu12==12.1.3.1 (from torch->transformers[torch])\n",
            "  Using cached nvidia_cublas_cu12-12.1.3.1-py3-none-manylinux1_x86_64.whl (410.6 MB)\n",
            "Collecting nvidia-cufft-cu12==11.0.2.54 (from torch->transformers[torch])\n",
            "  Using cached nvidia_cufft_cu12-11.0.2.54-py3-none-manylinux1_x86_64.whl (121.6 MB)\n",
            "Collecting nvidia-curand-cu12==10.3.2.106 (from torch->transformers[torch])\n",
            "  Using cached nvidia_curand_cu12-10.3.2.106-py3-none-manylinux1_x86_64.whl (56.5 MB)\n",
            "Collecting nvidia-cusolver-cu12==11.4.5.107 (from torch->transformers[torch])\n",
            "  Using cached nvidia_cusolver_cu12-11.4.5.107-py3-none-manylinux1_x86_64.whl (124.2 MB)\n",
            "Collecting nvidia-cusparse-cu12==12.1.0.106 (from torch->transformers[torch])\n",
            "  Using cached nvidia_cusparse_cu12-12.1.0.106-py3-none-manylinux1_x86_64.whl (196.0 MB)\n",
            "Collecting nvidia-nccl-cu12==2.19.3 (from torch->transformers[torch])\n",
            "  Using cached nvidia_nccl_cu12-2.19.3-py3-none-manylinux1_x86_64.whl (166.0 MB)\n",
            "Collecting nvidia-nvtx-cu12==12.1.105 (from torch->transformers[torch])\n",
            "  Using cached nvidia_nvtx_cu12-12.1.105-py3-none-manylinux1_x86_64.whl (99 kB)\n",
            "Requirement already satisfied: triton==2.2.0 in /usr/local/lib/python3.10/dist-packages (from torch->transformers[torch]) (2.2.0)\n",
            "Collecting nvidia-nvjitlink-cu12 (from nvidia-cusolver-cu12==11.4.5.107->torch->transformers[torch])\n",
            "  Using cached nvidia_nvjitlink_cu12-12.4.127-py3-none-manylinux2014_x86_64.whl (21.1 MB)\n",
            "Requirement already satisfied: python-dateutil>=2.8.2 in /usr/local/lib/python3.10/dist-packages (from pandas->datasets) (2.8.2)\n",
            "Requirement already satisfied: pytz>=2020.1 in /usr/local/lib/python3.10/dist-packages (from pandas->datasets) (2023.4)\n",
            "Requirement already satisfied: tzdata>=2022.1 in /usr/local/lib/python3.10/dist-packages (from pandas->datasets) (2024.1)\n",
            "Requirement already satisfied: six>=1.5 in /usr/local/lib/python3.10/dist-packages (from python-dateutil>=2.8.2->pandas->datasets) (1.16.0)\n",
            "Requirement already satisfied: MarkupSafe>=2.0 in /usr/local/lib/python3.10/dist-packages (from jinja2->torch->transformers[torch]) (2.1.5)\n",
            "Requirement already satisfied: mpmath>=0.19 in /usr/local/lib/python3.10/dist-packages (from sympy->torch->transformers[torch]) (1.3.0)\n",
            "Installing collected packages: xxhash, nvidia-nvtx-cu12, nvidia-nvjitlink-cu12, nvidia-nccl-cu12, nvidia-curand-cu12, nvidia-cufft-cu12, nvidia-cuda-runtime-cu12, nvidia-cuda-nvrtc-cu12, nvidia-cuda-cupti-cu12, nvidia-cublas-cu12, dill, nvidia-cusparse-cu12, nvidia-cudnn-cu12, multiprocess, huggingface-hub, nvidia-cusolver-cu12, transformers, datasets, accelerate\n",
            "  Attempting uninstall: huggingface-hub\n",
            "    Found existing installation: huggingface-hub 0.20.3\n",
            "    Uninstalling huggingface-hub-0.20.3:\n",
            "      Successfully uninstalled huggingface-hub-0.20.3\n",
            "  Attempting uninstall: transformers\n",
            "    Found existing installation: transformers 4.40.2\n",
            "    Uninstalling transformers-4.40.2:\n",
            "      Successfully uninstalled transformers-4.40.2\n",
            "Successfully installed accelerate-0.30.1 datasets-2.19.1 dill-0.3.8 huggingface-hub-0.23.0 multiprocess-0.70.16 nvidia-cublas-cu12-12.1.3.1 nvidia-cuda-cupti-cu12-12.1.105 nvidia-cuda-nvrtc-cu12-12.1.105 nvidia-cuda-runtime-cu12-12.1.105 nvidia-cudnn-cu12-8.9.2.26 nvidia-cufft-cu12-11.0.2.54 nvidia-curand-cu12-10.3.2.106 nvidia-cusolver-cu12-11.4.5.107 nvidia-cusparse-cu12-12.1.0.106 nvidia-nccl-cu12-2.19.3 nvidia-nvjitlink-cu12-12.4.127 nvidia-nvtx-cu12-12.1.105 transformers-4.41.0 xxhash-3.4.1\n"
          ]
        }
      ]
    },
    {
      "cell_type": "markdown",
      "source": [
        "## imbalanced"
      ],
      "metadata": {
        "id": "2dPP4SYGOlyO"
      }
    },
    {
      "cell_type": "code",
      "source": [
        "import pandas as pd\n",
        "from sklearn.model_selection import train_test_split\n",
        "from sklearn.preprocessing import LabelEncoder\n",
        "from datasets import Dataset, load_from_disk\n",
        "from transformers import BertTokenizer, BertForSequenceClassification, TrainingArguments, Trainer, DataCollatorWithPadding, AdamW, EarlyStoppingCallback\n",
        "import numpy as np\n",
        "from sklearn.metrics import accuracy_score\n",
        "\n",
        "train_dataset = load_from_disk('/content/drive/MyDrive/train_dataset')\n",
        "test_dataset = load_from_disk('/content/drive/MyDrive/test_dataset')\n",
        "\n",
        "# Load BERT tokenizer and model\n",
        "tokenizer = BertTokenizer.from_pretrained('bert-base-uncased')\n",
        "model = BertForSequenceClassification.from_pretrained('bert-base-uncased', num_labels=3)\n",
        "\n",
        "# Data collator\n",
        "data_collator = DataCollatorWithPadding(tokenizer=tokenizer)\n",
        "\n",
        "# Define a function to compute accuracy\n",
        "def compute_metrics(pred):\n",
        "    labels = pred.label_ids\n",
        "    preds = np.argmax(pred.predictions, axis=1)\n",
        "    acc = accuracy_score(labels, preds)\n",
        "    return {\n",
        "        'accuracy': acc,\n",
        "    }\n",
        "\n",
        "# Define a custom optimizer function to set Adam beta parameters\n",
        "def custom_optimizer(model):\n",
        "    return AdamW(model.parameters(), lr=5e-5, betas=(0.9, 0.999), weight_decay=0.01)\n",
        "\n",
        "# Training arguments\n",
        "training_args = TrainingArguments(\n",
        "    output_dir='./results',\n",
        "    evaluation_strategy='epoch',\n",
        "    save_strategy='epoch',\n",
        "    per_device_train_batch_size=16,\n",
        "    per_device_eval_batch_size=16,\n",
        "    num_train_epochs=10,\n",
        "    learning_rate=5e-5,\n",
        "    weight_decay=0.01,\n",
        "    logging_dir='./logs',\n",
        "    logging_steps=10,\n",
        "    save_steps=10_000,\n",
        "    save_total_limit=2,\n",
        "    load_best_model_at_end=True,\n",
        "    warmup_steps=10000\n",
        ")\n",
        "\n",
        "# Initialize the Trainer\n",
        "trainer = Trainer(\n",
        "    model=model,\n",
        "    args=training_args,\n",
        "    train_dataset=train_dataset,\n",
        "    eval_dataset=test_dataset,\n",
        "    optimizers=(custom_optimizer(model), None),\n",
        "    data_collator=data_collator,\n",
        "    callbacks=[EarlyStoppingCallback(early_stopping_patience=2)],\n",
        "    compute_metrics=compute_metrics,\n",
        ")\n",
        "\n",
        "# Function to print accuracy for each epoch\n",
        "def print_epoch_accuracies(trainer):\n",
        "    logs = trainer.state.log_history\n",
        "    for log in logs:\n",
        "        if 'eval_accuracy' in log:\n",
        "            print(f\"Epoch {log['epoch']}: Accuracy {log['eval_accuracy']}\")\n",
        "\n",
        "# Train the model\n",
        "trainer.train()\n",
        "\n",
        "# Evaluate the model\n",
        "results = trainer.evaluate()\n",
        "print(results)\n",
        "\n",
        "# Predict and print the classification report\n",
        "predictions = trainer.predict(test_dataset)\n",
        "pred_labels = predictions.predictions.argmax(-1)\n",
        "\n"
      ],
      "metadata": {
        "id": "U5dThcGT4AaB"
      },
      "execution_count": null,
      "outputs": []
    },
    {
      "cell_type": "code",
      "source": [
        "# Print classification report\n",
        "from sklearn.metrics import classification_report\n",
        "data = pd.read_csv('/content/drive/MyDrive/political_leaning_cleaned_dropped.csv')\n",
        "\n",
        "X = data['clean_post']\n",
        "y = data['political_leaning']\n",
        "\n",
        "label_encoder = LabelEncoder()\n",
        "y_encoded = label_encoder.fit_transform(y)\n",
        "\n",
        "X_train, X_test, y_train, y_test = train_test_split(X, y_encoded, test_size=0.2, random_state=42)\n",
        "print(classification_report(y_test, pred_labels, target_names=label_encoder.classes_))\n"
      ],
      "metadata": {
        "id": "wEofdK6E_5kD"
      },
      "execution_count": null,
      "outputs": []
    },
    {
      "cell_type": "code",
      "source": [
        "import matplotlib.pyplot as plt\n",
        "\n",
        "\n",
        "training_logs = trainer.state.log_history\n",
        "train_loss = [entry['loss'] for entry in training_logs if 'loss' in entry]\n",
        "val_loss = [entry['eval_loss'] for entry in training_logs if 'eval_loss' in entry]\n",
        "\n",
        "min_length = min(len(train_loss), len(val_loss))\n",
        "train_loss = train_loss[:min_length]\n",
        "val_loss = val_loss[:min_length]\n",
        "\n",
        "epochs = range(1, min_length + 1)\n",
        "\n",
        "plt.figure(figsize=(10, 5))\n",
        "plt.plot(epochs, train_loss, label='Training Loss')\n",
        "plt.plot(epochs, val_loss, label='Validation Loss')\n",
        "plt.xlabel('Epoch')\n",
        "plt.ylabel('Loss')\n",
        "plt.title('Training and Validation Loss')\n",
        "plt.ylim(0, 1.5)\n",
        "plt.legend()\n",
        "plt.grid(True)\n",
        "plt.savefig('loss_curves.png')\n",
        "plt.show()\n"
      ],
      "metadata": {
        "id": "_t30NIczALxf"
      },
      "execution_count": null,
      "outputs": []
    },
    {
      "cell_type": "code",
      "source": [
        "from sklearn.metrics import accuracy_score, classification_report, confusion_matrix\n",
        "import seaborn as sns\n",
        "\n",
        "true_labels = test_dataset['label']\n",
        "\n",
        "cm = confusion_matrix(true_labels, pred_labels)\n",
        "plt.figure(figsize=(10, 7))\n",
        "sns.heatmap(cm, annot=True, fmt='d', cmap='Reds', xticklabels=label_encoder.classes_, yticklabels=label_encoder.classes_)\n",
        "plt.xlabel('Predicted')\n",
        "plt.ylabel('True')\n",
        "plt.title('Confusion Matrix')\n",
        "plt.show()"
      ],
      "metadata": {
        "id": "r6DtGXvgCv_S"
      },
      "execution_count": null,
      "outputs": []
    },
    {
      "cell_type": "code",
      "source": [
        "model.save_pretrained('/content/drive/MyDrive/fine-tuned-bert')\n",
        "tokenizer.save_pretrained('/content/drive/MyDrive/fine-tuned-bert')\n"
      ],
      "metadata": {
        "id": "itJ5IWMPBeoi"
      },
      "execution_count": null,
      "outputs": []
    },
    {
      "cell_type": "markdown",
      "source": [
        "## Weigt balancing BERT"
      ],
      "metadata": {
        "id": "3Nhi0sRZ7f6b"
      }
    },
    {
      "cell_type": "code",
      "source": [
        "import pandas as pd\n",
        "from sklearn.model_selection import train_test_split\n",
        "from sklearn.preprocessing import LabelEncoder\n",
        "from datasets import Dataset, load_from_disk\n",
        "from transformers import BertTokenizer, BertForSequenceClassification, TrainingArguments, Trainer, DataCollatorWithPadding, AdamW, EarlyStoppingCallback\n",
        "import numpy as np\n",
        "import torch\n",
        "from sklearn.utils.class_weight import compute_class_weight\n",
        "from sklearn.metrics import accuracy_score, classification_report\n",
        "\n",
        "data = pd.read_csv('/content/drive/MyDrive/political_leaning_cleaned_dropped.csv')\n",
        "X = data['clean_post']\n",
        "y = data['political_leaning']\n",
        "label_encoder = LabelEncoder()\n",
        "y_encoded = label_encoder.fit_transform(y)\n",
        "X_train, X_test, y_train, y_test = train_test_split(X, y_encoded, test_size=0.2, random_state=42)\n",
        "\n",
        "class_weights = compute_class_weight('balanced', classes=np.unique(y_train), y=y_train)\n",
        "class_weights = torch.tensor(class_weights, dtype=torch.float)\n",
        "tokenizer = BertTokenizer.from_pretrained('bert-base-uncased')\n",
        "\n",
        "train_dataset = load_from_disk('/content/drive/MyDrive/train_dataset')\n",
        "test_dataset = load_from_disk('/content/drive/MyDrive/test_dataset')\n",
        "\n",
        "\n",
        "# Load BERT model\n",
        "model = BertForSequenceClassification.from_pretrained('bert-base-uncased', num_labels=3)\n",
        "\n",
        "# Define a function to compute metrics\n",
        "def compute_metrics(pred):\n",
        "    labels = pred.label_ids\n",
        "    preds = np.argmax(pred.predictions, axis=1)\n",
        "    acc = accuracy_score(labels, preds)\n",
        "    return {'accuracy': acc}\n",
        "\n",
        "# Training arguments\n",
        "training_args = TrainingArguments(\n",
        "    output_dir='./results',\n",
        "    evaluation_strategy='epoch',\n",
        "    save_strategy='epoch',\n",
        "    per_device_train_batch_size=16,\n",
        "    per_device_eval_batch_size=16,\n",
        "    num_train_epochs=10,\n",
        "    learning_rate=5e-5,\n",
        "    weight_decay=0.01,\n",
        "    logging_dir='./logs',\n",
        "    logging_steps=10,\n",
        "    save_steps=10_000,\n",
        "    save_total_limit=2,\n",
        "    load_best_model_at_end=True,\n",
        "    warmup_steps=10000\n",
        ")\n",
        "\n",
        "# Trainer with class weights\n",
        "class WeightedTrainer(Trainer):\n",
        "    def compute_loss(self, model, inputs, return_outputs=False):\n",
        "        labels = inputs.pop(\"labels\")\n",
        "        outputs = model(**inputs)\n",
        "        logits = outputs.logits\n",
        "        loss_fct = torch.nn.CrossEntropyLoss(weight=class_weights.to(model.device))\n",
        "        loss = loss_fct(logits, labels)\n",
        "        return (loss, outputs) if return_outputs else loss\n",
        "\n",
        "trainer = WeightedTrainer(\n",
        "    model=model,\n",
        "    args=training_args,\n",
        "    train_dataset=train_dataset,\n",
        "    eval_dataset=test_dataset,\n",
        "    compute_metrics=compute_metrics,\n",
        "    callbacks=[EarlyStoppingCallback(early_stopping_patience=2)],\n",
        ")\n",
        "\n",
        "# Train the model\n",
        "trainer.train()\n",
        "\n",
        "# Evaluate the model\n",
        "results = trainer.evaluate()\n",
        "print(results)\n",
        "\n",
        "# Predict and print the classification report\n",
        "predictions = trainer.predict(test_dataset)\n",
        "pred_labels = predictions.predictions.argmax(-1)\n",
        "\n",
        "print(classification_report(y_test, pred_labels, target_names=label_encoder.classes_))\n"
      ],
      "metadata": {
        "colab": {
          "base_uri": "https://localhost:8080/",
          "height": 521,
          "referenced_widgets": [
            "8c51f8ab8e8748b48dd2ee1516da3ec8",
            "b8f7f460aefb43aba91bf4885b0bc677",
            "bc3d53d8e94445a1a86b72a1ab4d587e",
            "7ddc9346b1804ec99cadddeee527a607",
            "7e190449799f491497115f1ed2e1b185",
            "12f7f56719e042eca311c28dc2cd8a5c",
            "8b5e556fae044d8fbb0007bb52726bf0",
            "106db09456504c9ba8d472b09ebba4ec",
            "06eb187e3f1d489d984384f6dcee96ed",
            "584a49f57448495c884946cfc2eff6e4",
            "8e1bd06f95d54c7faa24683e89b6e1ef"
          ]
        },
        "id": "BSEKXT7DUCxj",
        "outputId": "854679dd-3dcf-467c-89eb-62d05d083268"
      },
      "execution_count": 6,
      "outputs": [
        {
          "output_type": "display_data",
          "data": {
            "text/plain": [
              "model.safetensors:   0%|          | 0.00/440M [00:00<?, ?B/s]"
            ],
            "application/vnd.jupyter.widget-view+json": {
              "version_major": 2,
              "version_minor": 0,
              "model_id": "8c51f8ab8e8748b48dd2ee1516da3ec8"
            }
          },
          "metadata": {}
        },
        {
          "output_type": "stream",
          "name": "stderr",
          "text": [
            "Some weights of BertForSequenceClassification were not initialized from the model checkpoint at bert-base-uncased and are newly initialized: ['classifier.bias', 'classifier.weight']\n",
            "You should probably TRAIN this model on a down-stream task to be able to use it for predictions and inference.\n",
            "/usr/local/lib/python3.10/dist-packages/transformers/training_args.py:1474: FutureWarning: `evaluation_strategy` is deprecated and will be removed in version 4.46 of 🤗 Transformers. Use `eval_strategy` instead\n",
            "  warnings.warn(\n"
          ]
        },
        {
          "output_type": "display_data",
          "data": {
            "text/plain": [
              "<IPython.core.display.HTML object>"
            ],
            "text/html": [
              "\n",
              "    <div>\n",
              "      \n",
              "      <progress value='11032' max='27580' style='width:300px; height:20px; vertical-align: middle;'></progress>\n",
              "      [11032/27580 1:34:04 < 2:21:08, 1.95 it/s, Epoch 4/10]\n",
              "    </div>\n",
              "    <table border=\"1\" class=\"dataframe\">\n",
              "  <thead>\n",
              " <tr style=\"text-align: left;\">\n",
              "      <th>Epoch</th>\n",
              "      <th>Training Loss</th>\n",
              "      <th>Validation Loss</th>\n",
              "      <th>Accuracy</th>\n",
              "    </tr>\n",
              "  </thead>\n",
              "  <tbody>\n",
              "    <tr>\n",
              "      <td>1</td>\n",
              "      <td>0.998800</td>\n",
              "      <td>0.925922</td>\n",
              "      <td>0.528830</td>\n",
              "    </tr>\n",
              "    <tr>\n",
              "      <td>2</td>\n",
              "      <td>0.857700</td>\n",
              "      <td>0.874450</td>\n",
              "      <td>0.608613</td>\n",
              "    </tr>\n",
              "    <tr>\n",
              "      <td>3</td>\n",
              "      <td>0.689200</td>\n",
              "      <td>0.951137</td>\n",
              "      <td>0.568631</td>\n",
              "    </tr>\n",
              "    <tr>\n",
              "      <td>4</td>\n",
              "      <td>0.601400</td>\n",
              "      <td>0.894269</td>\n",
              "      <td>0.615775</td>\n",
              "    </tr>\n",
              "  </tbody>\n",
              "</table><p>"
            ]
          },
          "metadata": {}
        },
        {
          "output_type": "display_data",
          "data": {
            "text/plain": [
              "<IPython.core.display.HTML object>"
            ],
            "text/html": []
          },
          "metadata": {}
        },
        {
          "output_type": "stream",
          "name": "stdout",
          "text": [
            "{'eval_loss': 0.8744496703147888, 'eval_accuracy': 0.6086128739800544, 'eval_runtime': 107.9245, 'eval_samples_per_second': 102.201, 'eval_steps_per_second': 6.393, 'epoch': 4.0}\n",
            "              precision    recall  f1-score   support\n",
            "\n",
            "      center       0.61      0.71      0.66      4919\n",
            "        left       0.60      0.48      0.53      2722\n",
            "       right       0.60      0.56      0.58      3389\n",
            "\n",
            "    accuracy                           0.61     11030\n",
            "   macro avg       0.61      0.58      0.59     11030\n",
            "weighted avg       0.61      0.61      0.60     11030\n",
            "\n"
          ]
        }
      ]
    },
    {
      "cell_type": "code",
      "source": [
        "import matplotlib.pyplot as plt\n",
        "training_logs = trainer.state.log_history\n",
        "train_loss = [entry['loss'] for entry in training_logs if 'loss' in entry]\n",
        "val_loss = [entry['eval_loss'] for entry in training_logs if 'eval_loss' in entry]\n",
        "min_length = min(len(train_loss), len(val_loss))\n",
        "train_loss = train_loss[:min_length]\n",
        "val_loss = val_loss[:min_length]\n",
        "epochs = range(1, min_length + 1)\n",
        "\n",
        "plt.figure(figsize=(10, 5))\n",
        "plt.plot(epochs, train_loss, label='Training Loss')\n",
        "plt.plot(epochs, val_loss, label='Validation Loss')\n",
        "plt.xlabel('Epoch')\n",
        "plt.ylabel('Loss')\n",
        "plt.title('Training and Validation Loss')\n",
        "plt.ylim(0, 1.5)\n",
        "plt.legend()\n",
        "plt.grid(True)\n",
        "plt.savefig('loss_curves.png')\n",
        "plt.show()\n"
      ],
      "metadata": {
        "colab": {
          "base_uri": "https://localhost:8080/",
          "height": 460
        },
        "id": "N1iyfpGohsaS",
        "outputId": "30a1c638-e6f0-4ac8-dbae-712ba488f8a5"
      },
      "execution_count": 7,
      "outputs": [
        {
          "output_type": "display_data",
          "data": {
            "text/plain": [
              "<Figure size 1000x500 with 1 Axes>"
            ],
            "image/png": "[encoded data removed]"
          },
          "metadata": {}
        }
      ]
    },
    {
      "cell_type": "code",
      "source": [
        "from sklearn.metrics import accuracy_score, classification_report, confusion_matrix\n",
        "import seaborn as sns\n",
        "true_labels = test_dataset['label']\n",
        "\n",
        "cm = confusion_matrix(true_labels, pred_labels)\n",
        "plt.figure(figsize=(10, 7))\n",
        "sns.heatmap(cm, annot=True, fmt='d', cmap='Reds', xticklabels=label_encoder.classes_, yticklabels=label_encoder.classes_)\n",
        "plt.xlabel('Predicted')\n",
        "plt.ylabel('True')\n",
        "plt.title('Confusion Matrix')\n",
        "plt.show()"
      ],
      "metadata": {
        "colab": {
          "base_uri": "https://localhost:8080/",
          "height": 641
        },
        "id": "AXFqC4SMhxEG",
        "outputId": "b52cfd94-e001-495b-f0d7-d19a914fedd0"
      },
      "execution_count": 8,
      "outputs": [
        {
          "output_type": "display_data",
          "data": {
            "text/plain": [
              "<Figure size 1000x700 with 2 Axes>"
            ],
            "image/png": "[encoded data removed]"
          },
          "metadata": {}
        }
      ]
    },
    {
      "cell_type": "code",
      "source": [
        "X_train, X_test, y_train, y_test = train_test_split(X, y_encoded, test_size=0.2, random_state=42)\n",
        "print(classification_report(y_test, pred_labels, target_names=label_encoder.classes_))\n"
      ],
      "metadata": {
        "colab": {
          "base_uri": "https://localhost:8080/"
        },
        "id": "bAh2LP8Th3Y3",
        "outputId": "a004f84f-7888-49e5-bce7-6179ac3319ef"
      },
      "execution_count": 9,
      "outputs": [
        {
          "output_type": "stream",
          "name": "stdout",
          "text": [
            "              precision    recall  f1-score   support\n",
            "\n",
            "      center       0.61      0.71      0.66      4919\n",
            "        left       0.60      0.48      0.53      2722\n",
            "       right       0.60      0.56      0.58      3389\n",
            "\n",
            "    accuracy                           0.61     11030\n",
            "   macro avg       0.61      0.58      0.59     11030\n",
            "weighted avg       0.61      0.61      0.60     11030\n",
            "\n"
          ]
        }
      ]
    }
  ],
  "metadata": {
    "accelerator": "GPU",
    "colab": {
      "collapsed_sections": [
        "1pV8xNkxnG1h",
        "OrZqwZ07nIuz",
        "ZvkLernLCOnn",
        "6U1Xqhfr3Kw5",
        "SWgz2vWsz4j7",
        "-GUxF9ab5in1",
        "LsT2coK93Z4Y",
        "XOGSNyR8AiBq",
        "MXlSEx6-3Kfd",
        "KY4UwLuYeodQ",
        "pWcYD07eCR89",
        "xJR2DGpwP6wW",
        "JA85zULDBlFW",
        "myJN_hdlJlES",
        "KOrIM8gXhYUt",
        "fM4jfpLaSEQE",
        "85sHYcRut7Ty",
        "9UlcxWUUKR9M",
        "R2X5He_jMs1z",
        "iiQnF6psF0Yd",
        "8kaubg9zhdi4",
        "pE8C-SQrGqSd",
        "AgsqvDWRhm60",
        "FppNcUwoVgj9",
        "I_bHnq1ygIRs"
      ],
      "gpuType": "L4",
      "provenance": []
    },
    "kernelspec": {
      "display_name": "Python 3",
      "name": "python3"
    },
    "language_info": {
      "name": "python"
    },
    "widgets": {
      "application/vnd.jupyter.widget-state+json": {
        "8c51f8ab8e8748b48dd2ee1516da3ec8": {
          "model_module": "@jupyter-widgets/controls",
          "model_name": "HBoxModel",
          "model_module_version": "1.5.0",
          "state": {
            "_dom_classes": [],
            "_model_module": "@jupyter-widgets/controls",
            "_model_module_version": "1.5.0",
            "_model_name": "HBoxModel",
            "_view_count": null,
            "_view_module": "@jupyter-widgets/controls",
            "_view_module_version": "1.5.0",
            "_view_name": "HBoxView",
            "box_style": "",
            "children": [
              "IPY_MODEL_b8f7f460aefb43aba91bf4885b0bc677",
              "IPY_MODEL_bc3d53d8e94445a1a86b72a1ab4d587e",
              "IPY_MODEL_7ddc9346b1804ec99cadddeee527a607"
            ],
            "layout": "IPY_MODEL_7e190449799f491497115f1ed2e1b185"
          }
        },
        "b8f7f460aefb43aba91bf4885b0bc677": {
          "model_module": "@jupyter-widgets/controls",
          "model_name": "HTMLModel",
          "model_module_version": "1.5.0",
          "state": {
            "_dom_classes": [],
            "_model_module": "@jupyter-widgets/controls",
            "_model_module_version": "1.5.0",
            "_model_name": "HTMLModel",
            "_view_count": null,
            "_view_module": "@jupyter-widgets/controls",
            "_view_module_version": "1.5.0",
            "_view_name": "HTMLView",
            "description": "",
            "description_tooltip": null,
            "layout": "IPY_MODEL_12f7f56719e042eca311c28dc2cd8a5c",
            "placeholder": "​",
            "style": "IPY_MODEL_8b5e556fae044d8fbb0007bb52726bf0",
            "value": "model.safetensors: 100%"
          }
        },
        "bc3d53d8e94445a1a86b72a1ab4d587e": {
          "model_module": "@jupyter-widgets/controls",
          "model_name": "FloatProgressModel",
          "model_module_version": "1.5.0",
          "state": {
            "_dom_classes": [],
            "_model_module": "@jupyter-widgets/controls",
            "_model_module_version": "1.5.0",
            "_model_name": "FloatProgressModel",
            "_view_count": null,
            "_view_module": "@jupyter-widgets/controls",
            "_view_module_version": "1.5.0",
            "_view_name": "ProgressView",
            "bar_style": "success",
            "description": "",
            "description_tooltip": null,
            "layout": "IPY_MODEL_106db09456504c9ba8d472b09ebba4ec",
            "max": 440449768,
            "min": 0,
            "orientation": "horizontal",
            "style": "IPY_MODEL_06eb187e3f1d489d984384f6dcee96ed",
            "value": 440449768
          }
        },
        "7ddc9346b1804ec99cadddeee527a607": {
          "model_module": "@jupyter-widgets/controls",
          "model_name": "HTMLModel",
          "model_module_version": "1.5.0",
          "state": {
            "_dom_classes": [],
            "_model_module": "@jupyter-widgets/controls",
            "_model_module_version": "1.5.0",
            "_model_name": "HTMLModel",
            "_view_count": null,
            "_view_module": "@jupyter-widgets/controls",
            "_view_module_version": "1.5.0",
            "_view_name": "HTMLView",
            "description": "",
            "description_tooltip": null,
            "layout": "IPY_MODEL_584a49f57448495c884946cfc2eff6e4",
            "placeholder": "​",
            "style": "IPY_MODEL_8e1bd06f95d54c7faa24683e89b6e1ef",
            "value": " 440M/440M [00:06&lt;00:00, 79.0MB/s]"
          }
        },
        "7e190449799f491497115f1ed2e1b185": {
          "model_module": "@jupyter-widgets/base",
          "model_name": "LayoutModel",
          "model_module_version": "1.2.0",
          "state": {
            "_model_module": "@jupyter-widgets/base",
            "_model_module_version": "1.2.0",
            "_model_name": "LayoutModel",
            "_view_count": null,
            "_view_module": "@jupyter-widgets/base",
            "_view_module_version": "1.2.0",
            "_view_name": "LayoutView",
            "align_content": null,
            "align_items": null,
            "align_self": null,
            "border": null,
            "bottom": null,
            "display": null,
            "flex": null,
            "flex_flow": null,
            "grid_area": null,
            "grid_auto_columns": null,
            "grid_auto_flow": null,
            "grid_auto_rows": null,
            "grid_column": null,
            "grid_gap": null,
            "grid_row": null,
            "grid_template_areas": null,
            "grid_template_columns": null,
            "grid_template_rows": null,
            "height": null,
            "justify_content": null,
            "justify_items": null,
            "left": null,
            "margin": null,
            "max_height": null,
            "max_width": null,
            "min_height": null,
            "min_width": null,
            "object_fit": null,
            "object_position": null,
            "order": null,
            "overflow": null,
            "overflow_x": null,
            "overflow_y": null,
            "padding": null,
            "right": null,
            "top": null,
            "visibility": null,
            "width": null
          }
        },
        "12f7f56719e042eca311c28dc2cd8a5c": {
          "model_module": "@jupyter-widgets/base",
          "model_name": "LayoutModel",
          "model_module_version": "1.2.0",
          "state": {
            "_model_module": "@jupyter-widgets/base",
            "_model_module_version": "1.2.0",
            "_model_name": "LayoutModel",
            "_view_count": null,
            "_view_module": "@jupyter-widgets/base",
            "_view_module_version": "1.2.0",
            "_view_name": "LayoutView",
            "align_content": null,
            "align_items": null,
            "align_self": null,
            "border": null,
            "bottom": null,
            "display": null,
            "flex": null,
            "flex_flow": null,
            "grid_area": null,
            "grid_auto_columns": null,
            "grid_auto_flow": null,
            "grid_auto_rows": null,
            "grid_column": null,
            "grid_gap": null,
            "grid_row": null,
            "grid_template_areas": null,
            "grid_template_columns": null,
            "grid_template_rows": null,
            "height": null,
            "justify_content": null,
            "justify_items": null,
            "left": null,
            "margin": null,
            "max_height": null,
            "max_width": null,
            "min_height": null,
            "min_width": null,
            "object_fit": null,
            "object_position": null,
            "order": null,
            "overflow": null,
            "overflow_x": null,
            "overflow_y": null,
            "padding": null,
            "right": null,
            "top": null,
            "visibility": null,
            "width": null
          }
        },
        "8b5e556fae044d8fbb0007bb52726bf0": {
          "model_module": "@jupyter-widgets/controls",
          "model_name": "DescriptionStyleModel",
          "model_module_version": "1.5.0",
          "state": {
            "_model_module": "@jupyter-widgets/controls",
            "_model_module_version": "1.5.0",
            "_model_name": "DescriptionStyleModel",
            "_view_count": null,
            "_view_module": "@jupyter-widgets/base",
            "_view_module_version": "1.2.0",
            "_view_name": "StyleView",
            "description_width": ""
          }
        },
        "106db09456504c9ba8d472b09ebba4ec": {
          "model_module": "@jupyter-widgets/base",
          "model_name": "LayoutModel",
          "model_module_version": "1.2.0",
          "state": {
            "_model_module": "@jupyter-widgets/base",
            "_model_module_version": "1.2.0",
            "_model_name": "LayoutModel",
            "_view_count": null,
            "_view_module": "@jupyter-widgets/base",
            "_view_module_version": "1.2.0",
            "_view_name": "LayoutView",
            "align_content": null,
            "align_items": null,
            "align_self": null,
            "border": null,
            "bottom": null,
            "display": null,
            "flex": null,
            "flex_flow": null,
            "grid_area": null,
            "grid_auto_columns": null,
            "grid_auto_flow": null,
            "grid_auto_rows": null,
            "grid_column": null,
            "grid_gap": null,
            "grid_row": null,
            "grid_template_areas": null,
            "grid_template_columns": null,
            "grid_template_rows": null,
            "height": null,
            "justify_content": null,
            "justify_items": null,
            "left": null,
            "margin": null,
            "max_height": null,
            "max_width": null,
            "min_height": null,
            "min_width": null,
            "object_fit": null,
            "object_position": null,
            "order": null,
            "overflow": null,
            "overflow_x": null,
            "overflow_y": null,
            "padding": null,
            "right": null,
            "top": null,
            "visibility": null,
            "width": null
          }
        },
        "06eb187e3f1d489d984384f6dcee96ed": {
          "model_module": "@jupyter-widgets/controls",
          "model_name": "ProgressStyleModel",
          "model_module_version": "1.5.0",
          "state": {
            "_model_module": "@jupyter-widgets/controls",
            "_model_module_version": "1.5.0",
            "_model_name": "ProgressStyleModel",
            "_view_count": null,
            "_view_module": "@jupyter-widgets/base",
            "_view_module_version": "1.2.0",
            "_view_name": "StyleView",
            "bar_color": null,
            "description_width": ""
          }
        },
        "584a49f57448495c884946cfc2eff6e4": {
          "model_module": "@jupyter-widgets/base",
          "model_name": "LayoutModel",
          "model_module_version": "1.2.0",
          "state": {
            "_model_module": "@jupyter-widgets/base",
            "_model_module_version": "1.2.0",
            "_model_name": "LayoutModel",
            "_view_count": null,
            "_view_module": "@jupyter-widgets/base",
            "_view_module_version": "1.2.0",
            "_view_name": "LayoutView",
            "align_content": null,
            "align_items": null,
            "align_self": null,
            "border": null,
            "bottom": null,
            "display": null,
            "flex": null,
            "flex_flow": null,
            "grid_area": null,
            "grid_auto_columns": null,
            "grid_auto_flow": null,
            "grid_auto_rows": null,
            "grid_column": null,
            "grid_gap": null,
            "grid_row": null,
            "grid_template_areas": null,
            "grid_template_columns": null,
            "grid_template_rows": null,
            "height": null,
            "justify_content": null,
            "justify_items": null,
            "left": null,
            "margin": null,
            "max_height": null,
            "max_width": null,
            "min_height": null,
            "min_width": null,
            "object_fit": null,
            "object_position": null,
            "order": null,
            "overflow": null,
            "overflow_x": null,
            "overflow_y": null,
            "padding": null,
            "right": null,
            "top": null,
            "visibility": null,
            "width": null
          }
        },
        "8e1bd06f95d54c7faa24683e89b6e1ef": {
          "model_module": "@jupyter-widgets/controls",
          "model_name": "DescriptionStyleModel",
          "model_module_version": "1.5.0",
          "state": {
            "_model_module": "@jupyter-widgets/controls",
            "_model_module_version": "1.5.0",
            "_model_name": "DescriptionStyleModel",
            "_view_count": null,
            "_view_module": "@jupyter-widgets/base",
            "_view_module_version": "1.2.0",
            "_view_name": "StyleView",
            "description_width": ""
          }
        }
      }
    }
  },
  "nbformat": 4,
  "nbformat_minor": 0
}